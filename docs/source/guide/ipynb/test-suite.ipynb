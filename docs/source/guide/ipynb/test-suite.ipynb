{
 "cells": [
  {
   "cell_type": "markdown",
   "metadata": {},
   "source": [
    "# Nose tests"
   ]
  },
  {
   "cell_type": "code",
   "execution_count": 1,
   "metadata": {
    "ExecuteTime": {
     "end_time": "2016-09-05T09:09:54.232690",
     "start_time": "2016-09-05T09:09:53.862693"
    },
    "init_cell": true,
    "pycharm": {
     "is_executing": false
    },
    "scrolled": true
   },
   "outputs": [
    {
     "name": "stderr",
     "output_type": "stream",
     "text": [
      "C:\\Users\\drjen\\Miniconda3\\envs\\py35\\lib\\site-packages\\h5py\\__init__.py:36: FutureWarning: Conversion of the second argument of issubdtype from `float` to `np.floating` is deprecated. In future, it will be treated as `np.float64 == np.dtype(float).type`.\n",
      "  from ._conv import register_converters as _register_converters\n",
      "sc_qubits.tests.test_fluxonium.test_Fluxonium_init ... ok\n",
      "sc_qubits.tests.test_fluxonium.test_Fluxonium_eigenvals ... ok\n",
      "sc_qubits.tests.test_fluxonium.test_Fluxonium_eigenvecs ... ok\n",
      "sc_qubits.tests.test_fluxonium.test_Fluxonium_plot_evals_vs_paramvals ... "
     ]
    },
    {
     "data": {
      "text/plain": [
       "<Figure size 960x720 with 1 Axes>"
      ]
     },
     "metadata": {},
     "output_type": "display_data"
    },
    {
     "name": "stderr",
     "output_type": "stream",
     "text": [
      "ok\n",
      "sc_qubits.tests.test_fluxonium.test_Fluxonium_plot_wavefunction ... ok\n",
      "sc_qubits.tests.test_fluxonium.test_Fluxonium_plot_matrixelements ... "
     ]
    },
    {
     "data": {
      "text/plain": [
       "<Figure size 960x720 with 1 Axes>"
      ]
     },
     "metadata": {},
     "output_type": "display_data"
    },
    {
     "data": {
      "text/plain": [
       "<Figure size 1500x750 with 3 Axes>"
      ]
     },
     "metadata": {},
     "output_type": "display_data"
    },
    {
     "name": "stderr",
     "output_type": "stream",
     "text": [
      "ok\n",
      "sc_qubits.tests.test_hilbertspace.test_HilbertSpace_init ... ok\n",
      "sc_qubits.tests.test_hilbertspace.test_HilbertSpace_diag_hamiltonian ... ok\n",
      "sc_qubits.tests.test_hilbertspace.test_HilbertSpace_build_hamiltonian ... ok\n",
      "sc_qubits.tests.test_hilbertspace.test_HilbertSpace_diagonalize_hamiltonian ... ok\n",
      "sc_qubits.tests.test_hilbertspace.test_HilbertSpace_get_spectrum_vs_paramvals ... ok\n",
      "sc_qubits.tests.test_hilbertspace.test_HilbertSpace_absorption_spectrum ... ok\n",
      "sc_qubits.tests.test_transmon.test_transmon_eigenvals ... ok\n",
      "sc_qubits.tests.test_transmon.test_transmon_eigenvecs ... ok\n",
      "sc_qubits.tests.test_transmon.test_transmon_plot_evals_vs_paramvals_ng ... "
     ]
    },
    {
     "data": {
      "text/plain": [
       "<Figure size 960x720 with 1 Axes>"
      ]
     },
     "metadata": {},
     "output_type": "display_data"
    },
    {
     "name": "stderr",
     "output_type": "stream",
     "text": [
      "ok\n",
      "sc_qubits.tests.test_transmon.test_transmon_get_spectrum_vs_paramvals ... ok\n",
      "sc_qubits.tests.test_transmon.test_transmon_get_spectrum_vs_paramvals_filewrite ... ok\n",
      "sc_qubits.tests.test_transmon.test_transmon_plot_evals_vs_paramvals_EJ ... "
     ]
    },
    {
     "data": {
      "text/plain": [
       "<Figure size 960x720 with 1 Axes>"
      ]
     },
     "metadata": {},
     "output_type": "display_data"
    },
    {
     "name": "stderr",
     "output_type": "stream",
     "text": [
      "ok\n",
      "sc_qubits.tests.test_transmon.test_transmon_plot_n_wavefunction ... ok\n",
      "sc_qubits.tests.test_transmon.test_transmon_plot_phi_wavefunction ... ok\n",
      "sc_qubits.tests.test_transmon.test_transmon_matrixelement_table ... ok\n",
      "sc_qubits.tests.test_transmon.test_transmon_plot_matrixelements ... "
     ]
    },
    {
     "data": {
      "text/plain": [
       "<Figure size 960x720 with 1 Axes>"
      ]
     },
     "metadata": {},
     "output_type": "display_data"
    },
    {
     "data": {
      "text/plain": [
       "<Figure size 960x720 with 1 Axes>"
      ]
     },
     "metadata": {},
     "output_type": "display_data"
    },
    {
     "data": {
      "text/plain": [
       "<Figure size 960x720 with 1 Axes>"
      ]
     },
     "metadata": {},
     "output_type": "display_data"
    },
    {
     "data": {
      "text/plain": [
       "<Figure size 1500x750 with 3 Axes>"
      ]
     },
     "metadata": {},
     "output_type": "display_data"
    },
    {
     "name": "stderr",
     "output_type": "stream",
     "text": [
      "ok\n",
      "sc_qubits.tests.test_transmon.test_transmon_print_matrixelements ... ok\n",
      "sc_qubits.tests.test_transmon.test_transmon_plot_matelem_vs_paramvals ... "
     ]
    },
    {
     "data": {
      "text/plain": [
       "<Figure size 900x600 with 2 Axes>"
      ]
     },
     "metadata": {},
     "output_type": "display_data"
    },
    {
     "data": {
      "text/plain": [
       "<Figure size 960x720 with 1 Axes>"
      ]
     },
     "metadata": {},
     "output_type": "display_data"
    },
    {
     "name": "stderr",
     "output_type": "stream",
     "text": [
      "ok\n",
      "sc_qubits.tests.test_zeropi.test_ZeroPi_init ... ok\n",
      "sc_qubits.tests.test_zeropi.test_ZeroPi_plot_potential ... ok\n",
      "sc_qubits.tests.test_zeropi.test_ZeroPi_eigenvals ... ok\n",
      "sc_qubits.tests.test_zeropi.test_ZeroPi_eigenvecs ... ok\n",
      "sc_qubits.tests.test_zeropi.test_ZeroPi_plot_evals_vs_paramvals ... "
     ]
    },
    {
     "data": {
      "text/plain": [
       "<Figure size 2400x300 with 1 Axes>"
      ]
     },
     "metadata": {},
     "output_type": "display_data"
    },
    {
     "data": {
      "text/plain": [
       "<Figure size 960x720 with 1 Axes>"
      ]
     },
     "metadata": {},
     "output_type": "display_data"
    },
    {
     "name": "stderr",
     "output_type": "stream",
     "text": [
      "ok\n",
      "sc_qubits.tests.test_zeropi.test_ZeroPi_plot_wavefunction ... ok\n",
      "sc_qubits.tests.test_zeropi_disorder.test_ZeroPi_disordered_init ... ok\n",
      "sc_qubits.tests.test_zeropi_disorder.test_ZeroPi_disordered_plot_potential ... ok\n",
      "sc_qubits.tests.test_zeropi_disorder.test_ZeroPi_disordered_eigenvals ... ok\n",
      "sc_qubits.tests.test_zeropi_disorder.test_ZeroPi_disordered_eigenvecs ... ok\n",
      "sc_qubits.tests.test_zeropi_disorder.test_ZeroPi_disordered_plot_evals_vs_paramvals ... "
     ]
    },
    {
     "data": {
      "text/plain": [
       "<Figure size 1500x750 with 2 Axes>"
      ]
     },
     "metadata": {},
     "output_type": "display_data"
    },
    {
     "data": {
      "text/plain": [
       "<Figure size 2400x300 with 1 Axes>"
      ]
     },
     "metadata": {},
     "output_type": "display_data"
    },
    {
     "data": {
      "text/plain": [
       "<Figure size 960x720 with 1 Axes>"
      ]
     },
     "metadata": {},
     "output_type": "display_data"
    },
    {
     "name": "stderr",
     "output_type": "stream",
     "text": [
      "ok\n",
      "sc_qubits.tests.test_zeropi_disorder.test_ZeroPi_disordered_plot_wavefunction ... ok\n",
      "sc_qubits.tests.test_zeropifull.test_FullZeroPi_init ... ok\n",
      "sc_qubits.tests.test_zeropifull.test_FullZeroPi_eigenvals ... ok\n",
      "\n",
      "----------------------------------------------------------------------\n",
      "Ran 38 tests in 122.045s\n",
      "\n",
      "OK\n"
     ]
    }
   ],
   "source": [
    "import sys\n",
    "sys.path.insert(0, r\"C:\\Users\\drjen\\Dropbox\\shared_on_memon\\python\\sc_qubits package\")\n",
    "\n",
    "import sc_qubits.testing as sctest\n",
    "sctest.run()"
   ]
  },
  {
   "cell_type": "code",
   "execution_count": null,
   "metadata": {},
   "outputs": [],
   "source": []
  }
 ],
 "metadata": {
  "celltoolbar": "Initialisation Cell",
  "kernelspec": {
   "display_name": "Python 3",
   "language": "python",
   "name": "python3"
  },
  "language_info": {
   "codemirror_mode": {
    "name": "ipython",
    "version": 3
   },
   "file_extension": ".py",
   "mimetype": "text/x-python",
   "name": "python",
   "nbconvert_exporter": "python",
   "pygments_lexer": "ipython3",
   "version": "3.5.5"
  },
  "pycharm": {
   "stem_cell": {
    "cell_type": "raw",
    "metadata": {
     "collapsed": false
    },
    "source": []
   }
  },
  "toc": {
   "toc_cell": false,
   "toc_number_sections": true,
   "toc_threshold": 6,
   "toc_window_display": false
  }
 },
 "nbformat": 4,
 "nbformat_minor": 2
}
