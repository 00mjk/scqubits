{
 "cells": [
  {
   "cell_type": "code",
   "execution_count": 1,
   "metadata": {},
   "outputs": [],
   "source": [
    "%matplotlib inline\n",
    "%config InlineBackend.figure_format = 'svg'\n",
    "\n",
    "import numpy as np\n",
    "\n",
    "import scqubits as qubit\n",
    "from scqubits import HilbertSpace, InteractionTerm, ParameterSweep, Explorer"
   ]
  },
  {
   "cell_type": "markdown",
   "metadata": {},
   "source": [
    "# The Explorer Class\n",
    "\n",
    "Sometimes, exploring the properties of coupled quantum systems benefits from visual aides, and the possibility to see how properties change when system parameters are changed. The `Explorer` class in scqubits provides an interactive plot with multiple panels collecting an important set of information. \n",
    "\n",
    "The idea behind the `Explorer` class is simple: the user selects an external parameter that they wish to sweep, e.g., an external magnetic flux. The composite system is user-defined through the `HilbertSpace` and `InteractionTerm` classes, allowing flexibility to include different types and numbers of superconducting qubits and harmonic modes.\n",
    "\n",
    "Once defined, the parameter sweep is computed by means of the `ParameterSweep` class, and spectral data is stored in memory to allow efficient, interactive display of data. The `Explorer` plots are currently fixed to:\n",
    "1. Bare spectra of the individual qubits\n",
    "2. Wave functions of the bare qubits\n",
    "3. Dressed spectrum of the composite Hilbert space\n",
    "4. Spectrum for n-photon qubit transitions, starting from a given initial state\n",
    "5. AC Stark shift $\\chi_{01}$ for any of the qubits\n",
    "6. Charge matrix elements for any of the qubits, using the same initial state as in point 4.\n",
    "\n",
    "## HilbertSpace setup\n",
    "The initialization of the composite Hilbert space proceeds as usual. In the following example, we choose a system composed of two flux-tunable transmons coupled to one joint harmonic mode. (The flux is a global flux and the SQUID-loop areas of the two transmons are different with an area ratio of 1.4) "
   ]
  },
  {
   "cell_type": "code",
   "execution_count": 2,
   "metadata": {},
   "outputs": [],
   "source": [
    "qbt1 = qubit.Transmon(\n",
    "     EJ=25.0,\n",
    "     EC=0.2,\n",
    "     ng=0,\n",
    "     ncut=30,\n",
    "     truncated_dim=3)\n",
    "\n",
    "qbt2 = qubit.Transmon(\n",
    "     EJ=15.0,\n",
    "     EC=0.15,\n",
    "     ng=0,\n",
    "     ncut=30,\n",
    "     truncated_dim=3)\n",
    "\n",
    "\n",
    "resonator = qubit.Oscillator(\n",
    "    omega=5.5,\n",
    "    truncated_dim=4)\n",
    "\n",
    "hilbertspace = HilbertSpace([qbt1, qbt2, resonator])\n",
    "\n",
    "\n",
    "g1 = 0.1  # coupling resonator-CPB1 (without charge matrix elements)\n",
    "g2 = 0.2  # coupling resonator-CPB2 (without charge matrix elements)\n",
    "\n",
    "interaction1 = InteractionTerm(\n",
    "    g_strength = g1,\n",
    "    hilbertspace = hilbertspace,\n",
    "    op1 = qbt1.n_operator(),\n",
    "    subsys1 = qbt1,\n",
    "    op2 = resonator.creation_operator() + resonator.annihilation_operator(),\n",
    "    subsys2 =resonator\n",
    ")\n",
    "\n",
    "interaction2 = InteractionTerm(\n",
    "    g_strength = g2,\n",
    "    hilbertspace = hilbertspace,\n",
    "    op1 = qbt2.n_operator(),\n",
    "    subsys1 = qbt2,\n",
    "    op2 = resonator.creation_operator() + resonator.annihilation_operator(),\n",
    "    subsys2 =resonator\n",
    ")\n",
    "\n",
    "\n",
    "\n",
    "interaction_list = [interaction1, interaction2]\n",
    "hilbertspace.interaction_list = interaction_list"
   ]
  },
  {
   "cell_type": "code",
   "execution_count": 3,
   "metadata": {},
   "outputs": [
    {
     "data": {
      "application/vnd.jupyter.widget-view+json": {
       "model_id": "",
       "version_major": 2,
       "version_minor": 0
      },
      "text/plain": [
       "HBox(children=(FloatProgress(value=0.0, description='Bare spectra', max=150.0, style=ProgressStyle(description…"
      ]
     },
     "metadata": {},
     "output_type": "display_data"
    },
    {
     "name": "stdout",
     "output_type": "stream",
     "text": [
      "\r"
     ]
    },
    {
     "data": {
      "application/vnd.jupyter.widget-view+json": {
       "model_id": "",
       "version_major": 2,
       "version_minor": 0
      },
      "text/plain": [
       "HBox(children=(FloatProgress(value=0.0, description='Dressed spectrum', max=150.0, style=ProgressStyle(descrip…"
      ]
     },
     "metadata": {},
     "output_type": "display_data"
    },
    {
     "name": "stdout",
     "output_type": "stream",
     "text": [
      "\r"
     ]
    }
   ],
   "source": [
    "param_name = '$\\Phi_{ext}/\\Phi_0$'\n",
    "param_vals = np.linspace(0.0, 1.0, 150)\n",
    "\n",
    "subsys_update_list = [qbt1, qbt2]\n",
    "\n",
    "\n",
    "def update_hilbertspace(param_val):     # function that shows how Hilbert space components are updated\n",
    "    qbt1.EJ = 30*np.abs(np.cos(np.pi * param_val))\n",
    "    qbt2.EJ = 40*np.abs(np.cos(np.pi * param_val * 2))\n",
    "    \n",
    "\n",
    "sweep = ParameterSweep(\n",
    "    param_name=param_name,\n",
    "    param_vals=param_vals,\n",
    "    evals_count=15,\n",
    "    hilbertspace=hilbertspace,\n",
    "    subsys_update_list=subsys_update_list,\n",
    "    update_hilbertspace=update_hilbertspace,\n",
    "    interaction_list=interaction_list\n",
    ")\n",
    "sweep.generate_chi_sweep()\n",
    "sweep.generate_charge_matrixelem_sweep()"
   ]
  },
  {
   "cell_type": "code",
   "execution_count": 4,
   "metadata": {},
   "outputs": [
    {
     "data": {
      "application/vnd.jupyter.widget-view+json": {
       "model_id": "65ceb3cbf308460586ad2137903b640b",
       "version_major": 2,
       "version_minor": 0
      },
      "text/plain": [
       "HBox(children=(VBox(children=(FloatSlider(value=0.0, continuous_update=False, description='$\\\\Phi_{ext}/\\\\Phi_…"
      ]
     },
     "metadata": {},
     "output_type": "display_data"
    },
    {
     "data": {
      "application/vnd.jupyter.widget-view+json": {
       "model_id": "a07a16549967492ca1d58bc49be5e8a1",
       "version_major": 2,
       "version_minor": 0
      },
      "text/plain": [
       "Output()"
      ]
     },
     "metadata": {},
     "output_type": "display_data"
    }
   ],
   "source": [
    "explorer = Explorer(\n",
    "    sweep=sweep,\n",
    "    evals_count=10\n",
    ")\n",
    "explorer.interact()"
   ]
  },
  {
   "cell_type": "code",
   "execution_count": 5,
   "metadata": {},
   "outputs": [
    {
     "data": {
      "application/vnd.jupyter.widget-view+json": {
       "model_id": "",
       "version_major": 2,
       "version_minor": 0
      },
      "text/plain": [
       "HBox(children=(FloatProgress(value=0.0, description='Bare spectra', style=ProgressStyle(description_width='ini…"
      ]
     },
     "metadata": {},
     "output_type": "display_data"
    },
    {
     "name": "stdout",
     "output_type": "stream",
     "text": [
      "\r"
     ]
    },
    {
     "data": {
      "application/vnd.jupyter.widget-view+json": {
       "model_id": "",
       "version_major": 2,
       "version_minor": 0
      },
      "text/plain": [
       "HBox(children=(FloatProgress(value=0.0, description='Dressed spectrum', style=ProgressStyle(description_width=…"
      ]
     },
     "metadata": {},
     "output_type": "display_data"
    },
    {
     "name": "stdout",
     "output_type": "stream",
     "text": [
      "\r"
     ]
    },
    {
     "data": {
      "application/vnd.jupyter.widget-view+json": {
       "model_id": "1b9cbff45d4e4063adb31dbb8cbb9fac",
       "version_major": 2,
       "version_minor": 0
      },
      "text/plain": [
       "HBox(children=(VBox(children=(FloatSlider(value=0.0, continuous_update=False, description='$\\\\Phi_{ext}/\\\\Phi_…"
      ]
     },
     "metadata": {},
     "output_type": "display_data"
    },
    {
     "data": {
      "application/vnd.jupyter.widget-view+json": {
       "model_id": "8226eccb2b9844ef91f02a53ad19e0b4",
       "version_major": 2,
       "version_minor": 0
      },
      "text/plain": [
       "Output()"
      ]
     },
     "metadata": {},
     "output_type": "display_data"
    }
   ],
   "source": [
    "qbt = qubit.Fluxonium(\n",
    "    EJ=2.55,\n",
    "    EC=0.72,\n",
    "    EL=0.12,\n",
    "    flux=0.0,\n",
    "    cutoff=110,\n",
    "    truncated_dim=9\n",
    ")\n",
    "\n",
    "osc = qubit.Oscillator(\n",
    "    omega=4.0,\n",
    "    truncated_dim=5\n",
    ")\n",
    "\n",
    "\n",
    "hilbertspace = qubit.HilbertSpace([qbt, osc])\n",
    "\n",
    "\n",
    "interaction = InteractionTerm(\n",
    "    g_strength=0.2,\n",
    "    hilbertspace=hilbertspace,\n",
    "    op1=qbt.n_operator(),\n",
    "    subsys1=qbt,\n",
    "    op2=osc.creation_operator() + osc.annihilation_operator(),\n",
    "    subsys2=osc\n",
    ")\n",
    "\n",
    "interaction_list = [interaction]\n",
    "\n",
    "\n",
    "param_name = '$\\Phi_{ext}/\\Phi_0$'\n",
    "param_vals = np.linspace(-0.5, 0.5, 100)\n",
    "\n",
    "subsys_update_list = [qbt]\n",
    "\n",
    "\n",
    "def update_hilbertspace(param_val):\n",
    "    qbt.flux = param_val\n",
    "\n",
    "\n",
    "sweep = ParameterSweep(\n",
    "    param_name=param_name,\n",
    "    param_vals=param_vals,\n",
    "    evals_count=10,\n",
    "    hilbertspace=hilbertspace,\n",
    "    subsys_update_list=subsys_update_list,\n",
    "    update_hilbertspace=update_hilbertspace,\n",
    "    interaction_list=interaction_list\n",
    ")\n",
    "sweep.generate_chi_sweep()\n",
    "sweep.generate_charge_matrixelem_sweep()\n",
    "\n",
    "\n",
    "explorer = Explorer(\n",
    "    sweep=sweep,\n",
    "    evals_count=10\n",
    ")\n",
    "explorer.interact()"
   ]
  },
  {
   "cell_type": "code",
   "execution_count": null,
   "metadata": {},
   "outputs": [],
   "source": []
  }
 ],
 "metadata": {
  "kernelspec": {
   "display_name": "Python 3",
   "language": "python",
   "name": "python3"
  },
  "language_info": {
   "codemirror_mode": {
    "name": "ipython",
    "version": 3
   },
   "file_extension": ".py",
   "mimetype": "text/x-python",
   "name": "python",
   "nbconvert_exporter": "python",
   "pygments_lexer": "ipython3",
   "version": "3.7.6"
  }
 },
 "nbformat": 4,
 "nbformat_minor": 4
}
