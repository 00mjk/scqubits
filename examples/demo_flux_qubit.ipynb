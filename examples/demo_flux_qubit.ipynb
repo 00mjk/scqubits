{
 "cells": [
  {
   "cell_type": "markdown",
   "source": [
    "# Initialization"
   ],
   "metadata": {
    "collapsed": false
   }
  },
  {
   "cell_type": "markdown",
   "source": [
    "Interactive use of the `scqubits` library from a jupyter notebook starts with importing the `scqubits` library. Additional imports, e.g.,  `numpy` and the QuTiP library are optional."
   ],
   "metadata": {
    "collapsed": false
   }
  },
  {
   "cell_type": "code",
   "execution_count": null,
   "outputs": [],
   "source": [
    "%matplotlib inline\n",
    "%config InlineBackend.figure_format = 'svg'\n",
    "\n",
    "import scqubits as qubit\n",
    "import scqubits.utils.plotting as plot\n",
    "\n",
    "\n",
    "import numpy as np\n",
    "from qutip import *"
   ],
   "metadata": {
    "collapsed": false,
    "pycharm": {
     "name": "#%%\n"
    }
   }
  },
  {
   "cell_type": "code",
   "execution_count": null,
   "outputs": [],
   "source": [
    "import matplotlib as mpl\n",
    "import matplotlib.backends.backend_pdf as mplpdf\n",
    "import matplotlib.pyplot as plt\n",
    "\n",
    "try:\n",
    "    from labellines import labelLine, labelLines\n",
    "    _labellines_enabled = True\n",
    "except ImportError:\n",
    "    _labellines_enabled = False\n",
    "\n",
    "import scqubits.utils.constants as constants\n",
    "\n",
    "\n",
    "mpl.rcParams['font.sans-serif'] = \"Arial\"\n",
    "mpl.rcParams['font.family'] = \"sans-serif\"\n",
    "mpl.rcParams['figure.dpi']= 150\n"
   ],
   "metadata": {
    "collapsed": false,
    "pycharm": {
     "name": "#%%\n"
    }
   }
  },
  {
   "cell_type": "markdown",
   "source": [
    "# Flux qubit"
   ],
   "metadata": {
    "collapsed": false
   }
  },
  {
   "cell_type": "markdown",
   "source": [
    "$H_\\text{flux}=2E_\\text{m}(n_m-n_{gm})^2+2E_\\text{p}(n_p-n_{gp})^2-2E_{J}\\cos\\phi_{p}\\cos\\phi_{m}-\\alpha E_{J}\\cos(2\\pi f + 2\\phi_{m})$"
   ],
   "metadata": {
    "collapsed": false
   }
  },
  {
   "cell_type": "markdown",
   "source": [
    "$E_\\text{m}=\\frac{e^2}{2(C_{J}+2\\alpha C_{J}+ C_{g})}$, $E_\\text{p}=\\frac{e^2}{2(C_{J}+C_{g})}$"
   ],
   "metadata": {
    "collapsed": false
   }
  },
  {
   "cell_type": "code",
   "execution_count": null,
   "outputs": [],
   "source": [
    "# parameters for the flux qubit\n",
    "\n",
    "fluxqubit = qubit.FluxQubit(\n",
    "    EJ = 80.0,\n",
    "    ECJ = 1.0,\n",
    "    ECg = 50.0,\n",
    "    alpha = 0.8,\n",
    "    ng1 = 0.0,\n",
    "    ng2 = 0.0,\n",
    "    flux = 0.1,\n",
    "    ncut = 30\n",
    ")"
   ],
   "metadata": {
    "collapsed": false,
    "pycharm": {
     "name": "#%%\n"
    }
   }
  },
  {
   "cell_type": "code",
   "execution_count": null,
   "outputs": [],
   "source": [
    "fluxqubit"
   ],
   "metadata": {
    "collapsed": false,
    "pycharm": {
     "name": "#%%\n"
    }
   }
  },
  {
   "cell_type": "markdown",
   "source": [
    "### Potential energy for the flux qubit"
   ],
   "metadata": {
    "collapsed": false
   }
  },
  {
   "cell_type": "code",
   "execution_count": null,
   "outputs": [],
   "source": [
    "fluxqubit.plot_potential()"
   ],
   "metadata": {
    "collapsed": false,
    "pycharm": {
     "name": "#%%\n"
    }
   }
  },
  {
   "cell_type": "markdown",
   "source": [
    "### Eigenenergies"
   ],
   "metadata": {
    "collapsed": false
   }
  },
  {
   "cell_type": "code",
   "execution_count": null,
   "outputs": [],
   "source": [
    "evals = fluxqubit.eigenvals()"
   ],
   "metadata": {
    "collapsed": false,
    "pycharm": {
     "name": "#%%\n"
    }
   }
  },
  {
   "cell_type": "code",
   "execution_count": null,
   "outputs": [],
   "source": [
    "nm_vec = np.arange(-10, 10+1)\n",
    "nm_vec.shape"
   ],
   "metadata": {
    "collapsed": false,
    "pycharm": {
     "name": "#%%\n"
    }
   }
  },
  {
   "cell_type": "code",
   "execution_count": null,
   "outputs": [],
   "source": [
    "evals"
   ],
   "metadata": {
    "collapsed": false,
    "pycharm": {
     "name": "#%%\n"
    }
   }
  },
  {
   "cell_type": "code",
   "execution_count": null,
   "outputs": [],
   "source": [
    "def evals_vs_paramvals(specdata, evals_count=-1, xlim=False, ylim=False, shift=0, filename=None,\n",
    "                       fig_ax=None, **kwargs):\n",
    "    if fig_ax is None:\n",
    "        fig, axes = plt.subplots()\n",
    "    else:\n",
    "        fig, axes = fig_ax\n",
    "\n",
    "    x = specdata.param_vals\n",
    "    y = specdata.energy_table[:, 0:evals_count]/fluxqubit.EJ\n",
    "    if xlim:\n",
    "        axes.set_xlim(*xlim)\n",
    "    else:\n",
    "        axes.set_xlim(np.amin(x), np.amax(x))\n",
    "\n",
    "    if ylim:\n",
    "        axes.set_ylim(*ylim)\n",
    "    else:\n",
    "        axes.set_ylim(np.amin(y + shift), np.amax(y + shift))\n",
    "\n",
    "    axes.set_xlabel(specdata.param_name)\n",
    "    axes.set_ylabel('energy')\n",
    "    axes.plot(x, y + shift, **kwargs)\n",
    "\n",
    "    if filename:\n",
    "        out_file = mplpdf.PdfPages(filename + '.pdf')\n",
    "        out_file.savefig()\n",
    "        out_file.close()\n",
    "    plt.show()\n",
    "\n",
    "    return fig, axes"
   ],
   "metadata": {
    "collapsed": false,
    "pycharm": {
     "name": "#%%\n"
    }
   }
  },
  {
   "cell_type": "code",
   "execution_count": null,
   "outputs": [],
   "source": [
    "flux_list = np.linspace(0.47, .5, 20)\n",
    "specdata = fluxqubit.get_spectrum_vs_paramvals('flux', flux_list, 12, False)\n",
    "evals_vs_paramvals(specdata,shift=0)"
   ],
   "metadata": {
    "collapsed": false,
    "pycharm": {
     "name": "#%%\n"
    }
   }
  },
  {
   "cell_type": "code",
   "execution_count": null,
   "outputs": [],
   "source": [
    "flux_list = np.linspace(0.47, .5, 20)\n",
    "specdata = fluxqubit.get_spectrum_vs_paramvals('flux', flux_list, 12, False)\n",
    "evals_vs_paramvals(specdata,shift=0)"
   ],
   "metadata": {
    "collapsed": false,
    "pycharm": {
     "name": "#%%\n"
    }
   }
  },
  {
   "cell_type": "code",
   "execution_count": null,
   "outputs": [],
   "source": [
    "%time fluxqubit.plot_evals_vs_paramvals('flux', flux_list, subtract_ground=False)"
   ],
   "metadata": {
    "collapsed": false,
    "pycharm": {
     "name": "#%%\n"
    }
   }
  },
  {
   "cell_type": "code",
   "execution_count": null,
   "outputs": [],
   "source": [
    "esys = fluxqubit.eigensys()\n",
    "fluxqubit.plot_wavefunction(esys, which=1, mode='imag')"
   ],
   "metadata": {
    "collapsed": false,
    "pycharm": {
     "name": "#%%\n"
    }
   }
  },
  {
   "cell_type": "code",
   "execution_count": null,
   "outputs": [],
   "source": [],
   "metadata": {
    "collapsed": false,
    "pycharm": {
     "name": "#%%\n"
    }
   }
  }
 ],
 "metadata": {
  "kernelspec": {
   "display_name": "Python 3",
   "language": "python",
   "name": "python3"
  },
  "language_info": {
   "codemirror_mode": {
    "name": "ipython",
    "version": 2
   },
   "file_extension": ".py",
   "mimetype": "text/x-python",
   "name": "python",
   "nbconvert_exporter": "python",
   "pygments_lexer": "ipython2",
   "version": "2.7.6"
  },
  "pycharm": {
   "stem_cell": {
    "cell_type": "raw",
    "source": [],
    "metadata": {
     "collapsed": false
    }
   }
  }
 },
 "nbformat": 4,
 "nbformat_minor": 0
}