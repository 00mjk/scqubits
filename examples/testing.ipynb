{
 "cells": [
  {
   "cell_type": "code",
   "execution_count": 1,
   "metadata": {},
   "outputs": [
    {
     "name": "stderr",
     "output_type": "stream",
     "text": [
      "C:\\Users\\drjen\\Miniconda3\\envs\\py35\\lib\\site-packages\\h5py\\__init__.py:36: FutureWarning: Conversion of the second argument of issubdtype from `float` to `np.floating` is deprecated. In future, it will be treated as `np.float64 == np.dtype(float).type`.\n",
      "  from ._conv import register_converters as _register_converters\n",
      "test_flux_qubit.test_flux_qubit_eigenvals ... ok\n",
      "test_flux_qubit.test_flux_qubit_eigenvecs ... ok\n",
      "test_flux_qubit.test_flux_qubit_plot_evals_vs_paramvals_flux ... C:\\Users\\drjen\\Miniconda3\\envs\\py35\\lib\\site-packages\\matplotlib\\figure.py:448: UserWarning: Matplotlib is currently using agg, which is a non-GUI backend, so cannot show the figure.\n",
      "  % get_backend())\n",
      "ok\n",
      "test_flux_qubit.test_flux_qubit_get_spectrum_vs_paramvals ... ok\n",
      "test_flux_qubit.test_flux_qubit_get_spectrum_vs_paramvals_filewrite ... ok\n",
      "test_flux_qubit.test_flux_qubit_plot_wavefunction ... ok\n",
      "test_flux_qubit.test_flux_qubit_matrixelement_table ... FAIL\n",
      "test_flux_qubit.test_flux_qubit_plot_matrixelements ... ok\n",
      "test_flux_qubit.test_flux_qubit_print_matrixelements ... \n",
      "======================================================================\n",
      "FAIL: test_flux_qubit.test_flux_qubit_matrixelement_table\n",
      "----------------------------------------------------------------------\n",
      "Traceback (most recent call last):\n",
      "  File \"C:\\Users\\drjen\\Miniconda3\\envs\\py35\\lib\\site-packages\\nose\\case.py\", line 198, in runTest\n",
      "    self.test(*self.arg)\n",
      "  File \"c:\\users\\drjen\\pycharmprojects\\scqubits\\scqubits\\tests\\test_flux_qubit.py\", line 489, in test_flux_qubit_matrixelement_table\n",
      "    assert np.allclose(reference_matrix, calculated_matrix)\n",
      "AssertionError: \n",
      "-------------------- >> begin captured stdout << ---------------------\n",
      "flux_qubit_matrixelement_table()\n",
      "\n",
      "--------------------- >> end captured stdout << ----------------------\n",
      "\n",
      "----------------------------------------------------------------------\n",
      "Ran 9 tests in 28.779s\n",
      "\n",
      "FAILED (failures=1)\n"
     ]
    }
   ],
   "source": [
    "import scqubits.testing as tst\n",
    "tst.run()"
   ]
  }
 ],
 "metadata": {
  "kernelspec": {
   "display_name": "Python 3",
   "language": "python",
   "name": "python3"
  },
  "language_info": {
   "codemirror_mode": {
    "name": "ipython",
    "version": 3
   },
   "file_extension": ".py",
   "mimetype": "text/x-python",
   "name": "python",
   "nbconvert_exporter": "python",
   "pygments_lexer": "ipython3",
   "version": "3.5.5"
  }
 },
 "nbformat": 4,
 "nbformat_minor": 2
}
