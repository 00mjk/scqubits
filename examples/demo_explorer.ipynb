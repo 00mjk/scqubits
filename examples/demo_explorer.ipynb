{
 "cells": [
  {
   "cell_type": "code",
   "execution_count": 1,
   "metadata": {},
   "outputs": [],
   "source": [
    "%matplotlib inline\n",
    "%config InlineBackend.figure_format = 'svg'\n",
    "\n",
    "import numpy as np\n",
    "\n",
    "import scqubits as qubit\n",
    "from scqubits.core.explorer import Explorer\n",
    "from scqubits.core.hilbert_space import InteractionTerm, HilbertSpace\n",
    "from scqubits.core.param_sweep import ParameterSweep"
   ]
  },
  {
   "cell_type": "code",
   "execution_count": 2,
   "metadata": {},
   "outputs": [
    {
     "data": {
      "application/vnd.jupyter.widget-view+json": {
       "model_id": "",
       "version_major": 2,
       "version_minor": 0
      },
      "text/plain": [
       "HBox(children=(FloatProgress(value=0.0, description='Bare spectra', style=ProgressStyle(description_width='ini…"
      ]
     },
     "metadata": {},
     "output_type": "display_data"
    },
    {
     "name": "stdout",
     "output_type": "stream",
     "text": [
      "\r"
     ]
    },
    {
     "data": {
      "application/vnd.jupyter.widget-view+json": {
       "model_id": "",
       "version_major": 2,
       "version_minor": 0
      },
      "text/plain": [
       "HBox(children=(FloatProgress(value=0.0, description='Dressed spectrum', style=ProgressStyle(description_width=…"
      ]
     },
     "metadata": {},
     "output_type": "display_data"
    },
    {
     "name": "stdout",
     "output_type": "stream",
     "text": [
      "\r"
     ]
    },
    {
     "data": {
      "application/vnd.jupyter.widget-view+json": {
       "model_id": "d2a1c3d3455e4c20bfdac3dab69515af",
       "version_major": 2,
       "version_minor": 0
      },
      "text/plain": [
       "HBox(children=(VBox(children=(FloatSlider(value=0.25, continuous_update=False, description='$\\\\Phi_{ext}/\\\\Phi…"
      ]
     },
     "metadata": {},
     "output_type": "display_data"
    },
    {
     "data": {
      "application/vnd.jupyter.widget-view+json": {
       "model_id": "1e4736a53d9c44e495bcc94bce1d8705",
       "version_major": 2,
       "version_minor": 0
      },
      "text/plain": [
       "Output()"
      ]
     },
     "metadata": {},
     "output_type": "display_data"
    }
   ],
   "source": [
    "qbt = qubit.Transmon(\n",
    "    EJ=20.0,\n",
    "    EC=0.2,\n",
    "    ng=0.3,\n",
    "    ncut=150,\n",
    "    truncated_dim=5)\n",
    "\n",
    "\n",
    "osc = qubit.Oscillator(\n",
    "    omega=3.0,\n",
    "    truncated_dim=5)\n",
    "\n",
    "\n",
    "hilbertspace = HilbertSpace([qbt, osc])\n",
    "\n",
    "\n",
    "interaction = InteractionTerm(\n",
    "    g_strength=0.1,\n",
    "    hilbertspace=hilbertspace,\n",
    "    op1=qbt.n_operator(),\n",
    "    subsys1=qbt,\n",
    "    op2=osc.creation_operator() + osc.annihilation_operator(),\n",
    "    subsys2=osc\n",
    ")\n",
    "\n",
    "interaction_list = [interaction]\n",
    "\n",
    "param_name = '$\\Phi_{ext}/\\Phi_0$'\n",
    "param_vals = np.linspace(0.25, 0.75, 100)\n",
    "\n",
    "subsys_update_list = [qbt]\n",
    "\n",
    "\n",
    "def update_hilbertspace(param_val, hilbertspace):\n",
    "    hilbertspace[0].EJ = 20.0 * np.abs(np.cos(np.pi * param_val))\n",
    "\n",
    "\n",
    "sweep = ParameterSweep(\n",
    "    param_name=param_name,\n",
    "    param_vals=param_vals,\n",
    "    evals_count=15,\n",
    "    hilbertspace=hilbertspace,\n",
    "    subsys_update_list=subsys_update_list,\n",
    "    update_hilbertspace=update_hilbertspace,\n",
    "    interaction_list=interaction_list,\n",
    "    generate_chi=True\n",
    ")\n",
    "\n",
    "\n",
    "explorer = Explorer(\n",
    "    sweep=sweep,\n",
    "    evals_count=10\n",
    ")\n",
    "explorer.interact()"
   ]
  },
  {
   "cell_type": "code",
   "execution_count": 3,
   "metadata": {},
   "outputs": [
    {
     "data": {
      "application/vnd.jupyter.widget-view+json": {
       "model_id": "",
       "version_major": 2,
       "version_minor": 0
      },
      "text/plain": [
       "HBox(children=(FloatProgress(value=0.0, description='Bare spectra', style=ProgressStyle(description_width='ini…"
      ]
     },
     "metadata": {},
     "output_type": "display_data"
    },
    {
     "name": "stdout",
     "output_type": "stream",
     "text": [
      "\r"
     ]
    },
    {
     "data": {
      "application/vnd.jupyter.widget-view+json": {
       "model_id": "",
       "version_major": 2,
       "version_minor": 0
      },
      "text/plain": [
       "HBox(children=(FloatProgress(value=0.0, description='Dressed spectrum', style=ProgressStyle(description_width=…"
      ]
     },
     "metadata": {},
     "output_type": "display_data"
    },
    {
     "name": "stdout",
     "output_type": "stream",
     "text": [
      "\r"
     ]
    },
    {
     "data": {
      "application/vnd.jupyter.widget-view+json": {
       "model_id": "2fbb88e3c3414ad287225cb505257828",
       "version_major": 2,
       "version_minor": 0
      },
      "text/plain": [
       "HBox(children=(VBox(children=(FloatSlider(value=0.0, continuous_update=False, description='$\\\\Phi_{ext}/\\\\Phi_…"
      ]
     },
     "metadata": {},
     "output_type": "display_data"
    },
    {
     "data": {
      "application/vnd.jupyter.widget-view+json": {
       "model_id": "cfc00d8d76e547f596232c7cd15874d3",
       "version_major": 2,
       "version_minor": 0
      },
      "text/plain": [
       "Output()"
      ]
     },
     "metadata": {},
     "output_type": "display_data"
    }
   ],
   "source": [
    "qbt = qubit.Fluxonium(\n",
    "    EJ=2.55,\n",
    "    EC=0.72,\n",
    "    EL=0.12,\n",
    "    flux=0.0,\n",
    "    cutoff=110,\n",
    "    truncated_dim=7\n",
    ")\n",
    "\n",
    "osc = qubit.Oscillator(\n",
    "    omega=1.0,\n",
    "    truncated_dim=5\n",
    ")\n",
    "\n",
    "\n",
    "hilbertspace = qubit.HilbertSpace([qbt, osc])\n",
    "\n",
    "\n",
    "interaction = InteractionTerm(\n",
    "    g_strength=0.2,\n",
    "    hilbertspace=hilbertspace,\n",
    "    op1=qbt.n_operator(),\n",
    "    subsys1=qbt,\n",
    "    op2=osc.creation_operator() + osc.annihilation_operator(),\n",
    "    subsys2=osc\n",
    ")\n",
    "\n",
    "interaction_list = [interaction]\n",
    "\n",
    "\n",
    "param_name = '$\\Phi_{ext}/\\Phi_0$'\n",
    "param_vals = np.linspace(-0.5, 0.5, 100)\n",
    "\n",
    "subsys_update_list = [qbt]\n",
    "\n",
    "\n",
    "def update_hilbertspace(param_val, hilbertspace):\n",
    "    hilbertspace[0].flux = param_val\n",
    "\n",
    "\n",
    "sweep = ParameterSweep(\n",
    "    param_name=param_name,\n",
    "    param_vals=param_vals,\n",
    "    evals_count=10,\n",
    "    hilbertspace=hilbertspace,\n",
    "    subsys_update_list=subsys_update_list,\n",
    "    update_hilbertspace=update_hilbertspace,\n",
    "    interaction_list=interaction_list,\n",
    "    generate_chi=True\n",
    ")\n",
    "\n",
    "\n",
    "explorer = Explorer(\n",
    "    sweep=sweep,\n",
    "    evals_count=10\n",
    ")\n",
    "explorer.interact()"
   ]
  },
  {
   "cell_type": "code",
   "execution_count": null,
   "metadata": {},
   "outputs": [],
   "source": []
  }
 ],
 "metadata": {
  "kernelspec": {
   "display_name": "Python 3",
   "language": "python",
   "name": "python3"
  },
  "language_info": {
   "codemirror_mode": {
    "name": "ipython",
    "version": 3
   },
   "file_extension": ".py",
   "mimetype": "text/x-python",
   "name": "python",
   "nbconvert_exporter": "python",
   "pygments_lexer": "ipython3",
   "version": "3.7.6"
  }
 },
 "nbformat": 4,
 "nbformat_minor": 4
}
