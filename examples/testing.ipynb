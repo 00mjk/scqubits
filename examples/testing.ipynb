{
 "cells": [
  {
   "cell_type": "code",
   "execution_count": 1,
   "metadata": {},
   "outputs": [
    {
     "name": "stderr",
     "output_type": "stream",
     "text": [
      "C:\\Users\\drjen\\Miniconda3\\envs\\py35\\lib\\site-packages\\h5py\\__init__.py:36: FutureWarning: Conversion of the second argument of issubdtype from `float` to `np.floating` is deprecated. In future, it will be treated as `np.float64 == np.dtype(float).type`.\n",
      "  from ._conv import register_converters as _register_converters\n",
      "test_flux_qubit.test_flux_qubit_eigenvals ... ERROR\n",
      "test_flux_qubit.test_flux_qubit_eigenvecs ... ERROR\n",
      "test_flux_qubit.test_flux_qubit_plot_evals_vs_paramvals_flux ... "
     ]
    },
    {
     "data": {
      "text/plain": [
       "<Figure size 960x720 with 1 Axes>"
      ]
     },
     "metadata": {},
     "output_type": "display_data"
    },
    {
     "name": "stderr",
     "output_type": "stream",
     "text": [
      "ok\n",
      "test_flux_qubit.test_flux_qubit_get_spectrum_vs_paramvals ... c:\\users\\drjen\\pycharmprojects\\scqubits\\scqubits\\core\\qubit_base.py:273: ComplexWarning: Casting complex values to real discards the imaginary part\n",
      "  eigenstate_table[index] = evecs\n",
      "ok\n",
      "test_flux_qubit.test_flux_qubit_get_spectrum_vs_paramvals_filewrite ... ERROR\n",
      "test_flux_qubit.test_flux_qubit_plot_wavefunction ... ok\n",
      "test_flux_qubit.test_flux_qubit_matrixelement_table ... FAIL\n",
      "test_flux_qubit.test_flux_qubit_plot_matrixelements ... "
     ]
    },
    {
     "data": {
      "text/plain": [
       "<Figure size 1500x1500 with 2 Axes>"
      ]
     },
     "metadata": {},
     "output_type": "display_data"
    },
    {
     "data": {
      "text/plain": [
       "<Figure size 1500x750 with 3 Axes>"
      ]
     },
     "metadata": {},
     "output_type": "display_data"
    },
    {
     "name": "stderr",
     "output_type": "stream",
     "text": [
      "ok\n",
      "test_flux_qubit.test_flux_qubit_print_matrixelements ... ok\n",
      "test_flux_qubit.test_flux_qubit_plot_matelem_vs_paramvals ... ERROR\n",
      "test_fluxonium.test_Fluxonium_init ... ok\n",
      "test_fluxonium.test_Fluxonium_eigenvals ... ok\n",
      "test_fluxonium.test_Fluxonium_eigenvecs ... ok\n",
      "test_fluxonium.test_Fluxonium_plot_evals_vs_paramvals ... "
     ]
    },
    {
     "data": {
      "text/plain": [
       "<Figure size 900x600 with 2 Axes>"
      ]
     },
     "metadata": {},
     "output_type": "display_data"
    },
    {
     "data": {
      "text/plain": [
       "<Figure size 960x720 with 1 Axes>"
      ]
     },
     "metadata": {},
     "output_type": "display_data"
    },
    {
     "data": {
      "text/plain": [
       "<Figure size 960x720 with 1 Axes>"
      ]
     },
     "metadata": {},
     "output_type": "display_data"
    },
    {
     "name": "stderr",
     "output_type": "stream",
     "text": [
      "ok\n",
      "test_fluxonium.test_Fluxonium_plot_wavefunction ... ok\n",
      "test_fluxonium.test_Fluxonium_plot_matrixelements ... "
     ]
    },
    {
     "data": {
      "text/plain": [
       "<Figure size 960x720 with 1 Axes>"
      ]
     },
     "metadata": {},
     "output_type": "display_data"
    },
    {
     "data": {
      "text/plain": [
       "<Figure size 1500x750 with 3 Axes>"
      ]
     },
     "metadata": {},
     "output_type": "display_data"
    },
    {
     "name": "stderr",
     "output_type": "stream",
     "text": [
      "ok\n",
      "test_hilbertspace.test_HilbertSpace_init ... ok\n",
      "test_hilbertspace.test_HilbertSpace_diag_hamiltonian ... ok\n",
      "test_hilbertspace.test_HilbertSpace_build_hamiltonian ... ok\n",
      "test_hilbertspace.test_HilbertSpace_diagonalize_hamiltonian ... ok\n",
      "test_hilbertspace.test_HilbertSpace_get_spectrum_vs_paramvals ... ok\n",
      "test_hilbertspace.test_HilbertSpace_absorption_spectrum ... ok\n",
      "test_transmon.test_transmon_eigenvals ... ok\n",
      "test_transmon.test_transmon_eigenvecs ... ok\n",
      "test_transmon.test_transmon_plot_evals_vs_paramvals_ng ... "
     ]
    },
    {
     "data": {
      "text/plain": [
       "<Figure size 960x720 with 1 Axes>"
      ]
     },
     "metadata": {},
     "output_type": "display_data"
    },
    {
     "name": "stderr",
     "output_type": "stream",
     "text": [
      "ok\n",
      "test_transmon.test_transmon_get_spectrum_vs_paramvals ... ok\n",
      "test_transmon.test_transmon_get_spectrum_vs_paramvals_filewrite ... ok\n",
      "test_transmon.test_transmon_plot_evals_vs_paramvals_EJ ... "
     ]
    },
    {
     "data": {
      "text/plain": [
       "<Figure size 960x720 with 1 Axes>"
      ]
     },
     "metadata": {},
     "output_type": "display_data"
    },
    {
     "name": "stderr",
     "output_type": "stream",
     "text": [
      "ok\n",
      "test_transmon.test_transmon_plot_n_wavefunction ... ok\n",
      "test_transmon.test_transmon_plot_phi_wavefunction ... ok\n",
      "test_transmon.test_transmon_matrixelement_table ... ok\n",
      "test_transmon.test_transmon_plot_matrixelements ... "
     ]
    },
    {
     "data": {
      "text/plain": [
       "<Figure size 960x720 with 1 Axes>"
      ]
     },
     "metadata": {},
     "output_type": "display_data"
    },
    {
     "data": {
      "text/plain": [
       "<Figure size 960x720 with 1 Axes>"
      ]
     },
     "metadata": {},
     "output_type": "display_data"
    },
    {
     "data": {
      "text/plain": [
       "<Figure size 960x720 with 1 Axes>"
      ]
     },
     "metadata": {},
     "output_type": "display_data"
    },
    {
     "data": {
      "text/plain": [
       "<Figure size 1500x750 with 3 Axes>"
      ]
     },
     "metadata": {},
     "output_type": "display_data"
    },
    {
     "name": "stderr",
     "output_type": "stream",
     "text": [
      "ok\n",
      "test_transmon.test_transmon_print_matrixelements ... ok\n",
      "test_transmon.test_transmon_plot_matelem_vs_paramvals ... "
     ]
    },
    {
     "data": {
      "text/plain": [
       "<Figure size 900x600 with 2 Axes>"
      ]
     },
     "metadata": {},
     "output_type": "display_data"
    },
    {
     "data": {
      "text/plain": [
       "<Figure size 960x720 with 1 Axes>"
      ]
     },
     "metadata": {},
     "output_type": "display_data"
    },
    {
     "name": "stderr",
     "output_type": "stream",
     "text": [
      "ok\n",
      "test_zeropi.test_ZeroPi_init ... ok\n",
      "test_zeropi.test_ZeroPi_plot_potential ... ok\n",
      "test_zeropi.test_ZeroPi_eigenvals ... ok\n",
      "test_zeropi.test_ZeroPi_eigenvecs ... ok\n",
      "test_zeropi.test_ZeroPi_plot_evals_vs_paramvals ... "
     ]
    },
    {
     "data": {
      "text/plain": [
       "<Figure size 2400x300 with 1 Axes>"
      ]
     },
     "metadata": {},
     "output_type": "display_data"
    },
    {
     "data": {
      "text/plain": [
       "<Figure size 960x720 with 1 Axes>"
      ]
     },
     "metadata": {},
     "output_type": "display_data"
    },
    {
     "name": "stderr",
     "output_type": "stream",
     "text": [
      "ok\n",
      "test_zeropi.test_ZeroPi_plot_wavefunction ... ok\n",
      "test_zeropi_disorder.test_ZeroPi_disordered_init ... ok\n",
      "test_zeropi_disorder.test_ZeroPi_disordered_plot_potential ... ok\n",
      "test_zeropi_disorder.test_ZeroPi_disordered_eigenvals ... ok\n",
      "test_zeropi_disorder.test_ZeroPi_disordered_eigenvecs ... ok\n",
      "test_zeropi_disorder.test_ZeroPi_disordered_plot_evals_vs_paramvals ... "
     ]
    },
    {
     "data": {
      "text/plain": [
       "<Figure size 1500x750 with 2 Axes>"
      ]
     },
     "metadata": {},
     "output_type": "display_data"
    },
    {
     "data": {
      "text/plain": [
       "<Figure size 2400x300 with 1 Axes>"
      ]
     },
     "metadata": {},
     "output_type": "display_data"
    },
    {
     "data": {
      "text/plain": [
       "<Figure size 960x720 with 1 Axes>"
      ]
     },
     "metadata": {},
     "output_type": "display_data"
    },
    {
     "name": "stderr",
     "output_type": "stream",
     "text": [
      "ok\n",
      "test_zeropi_disorder.test_ZeroPi_disordered_plot_wavefunction ... ok\n",
      "test_zeropifull.test_FullZeroPi_init ... ok\n",
      "test_zeropifull.test_FullZeroPi_eigenvals ... ok\n",
      "\n",
      "======================================================================\n",
      "ERROR: test_flux_qubit.test_flux_qubit_eigenvals\n",
      "----------------------------------------------------------------------\n",
      "Traceback (most recent call last):\n",
      "  File \"C:\\Users\\drjen\\Miniconda3\\envs\\py35\\lib\\site-packages\\nose\\case.py\", line 198, in runTest\n",
      "    self.test(*self.arg)\n",
      "  File \"c:\\users\\drjen\\pycharmprojects\\scqubits\\scqubits\\tests\\test_flux_qubit.py\", line 46, in test_flux_qubit_eigenvals\n",
      "    assert np.allclose(evals_reference, flux_qubit.eigenvals(filename='./_data/test'))\n",
      "  File \"c:\\users\\drjen\\pycharmprojects\\scqubits\\scqubits\\core\\qubit_base.py\", line 147, in eigenvals\n",
      "    self.filewrite_evals(filename, evals)\n",
      "  File \"c:\\users\\drjen\\pycharmprojects\\scqubits\\scqubits\\core\\qubit_base.py\", line 93, in filewrite_evals\n",
      "    filewrite_h5data(filename, [evals], [\"eigenenergies\"], self.dict_reformat())\n",
      "  File \"c:\\users\\drjen\\pycharmprojects\\scqubits\\scqubits\\utils\\file_write.py\", line 47, in filewrite_h5data\n",
      "    h5file = h5py.File(filename + '.hdf5', 'w')\n",
      "  File \"C:\\Users\\drjen\\Miniconda3\\envs\\py35\\lib\\site-packages\\h5py\\_hl\\files.py\", line 269, in __init__\n",
      "    fid = make_fid(name, mode, userblock_size, fapl, swmr=swmr)\n",
      "  File \"C:\\Users\\drjen\\Miniconda3\\envs\\py35\\lib\\site-packages\\h5py\\_hl\\files.py\", line 105, in make_fid\n",
      "    fid = h5f.create(name, h5f.ACC_TRUNC, fapl=fapl, fcpl=fcpl)\n",
      "  File \"h5py\\_objects.pyx\", line 54, in h5py._objects.with_phil.wrapper\n",
      "  File \"h5py\\_objects.pyx\", line 55, in h5py._objects.with_phil.wrapper\n",
      "  File \"h5py\\h5f.pyx\", line 98, in h5py.h5f.create\n",
      "OSError: Unable to create file (unable to open file: name = './_data/test.hdf5', errno = 2, error message = 'No such file or directory', flags = 13, o_flags = 302)\n",
      "-------------------- >> begin captured stdout << ---------------------\n",
      "flux_qubit_eigenvals()\n",
      "\n",
      "--------------------- >> end captured stdout << ----------------------\n",
      "\n",
      "======================================================================\n",
      "ERROR: test_flux_qubit.test_flux_qubit_eigenvecs\n",
      "----------------------------------------------------------------------\n",
      "Traceback (most recent call last):\n",
      "  File \"C:\\Users\\drjen\\Miniconda3\\envs\\py35\\lib\\site-packages\\nose\\case.py\", line 198, in runTest\n",
      "    self.test(*self.arg)\n",
      "  File \"c:\\users\\drjen\\pycharmprojects\\scqubits\\scqubits\\tests\\test_flux_qubit.py\", line 272, in test_flux_qubit_eigenvecs\n",
      "    _, evecs_tst = flux_qubit.eigensys(filename='./_data/test')\n",
      "  File \"c:\\users\\drjen\\pycharmprojects\\scqubits\\scqubits\\core\\qubit_base.py\", line 168, in eigensys\n",
      "    self.filewrite_esys(filename, evals, evecs)\n",
      "  File \"c:\\users\\drjen\\pycharmprojects\\scqubits\\scqubits\\core\\qubit_base.py\", line 113, in filewrite_esys\n",
      "    filewrite_h5data(filename, [evals, evecs], [\"eigenenergies\", \"eigenvectors\"], self.dict_reformat())\n",
      "  File \"c:\\users\\drjen\\pycharmprojects\\scqubits\\scqubits\\utils\\file_write.py\", line 47, in filewrite_h5data\n",
      "    h5file = h5py.File(filename + '.hdf5', 'w')\n",
      "  File \"C:\\Users\\drjen\\Miniconda3\\envs\\py35\\lib\\site-packages\\h5py\\_hl\\files.py\", line 269, in __init__\n",
      "    fid = make_fid(name, mode, userblock_size, fapl, swmr=swmr)\n",
      "  File \"C:\\Users\\drjen\\Miniconda3\\envs\\py35\\lib\\site-packages\\h5py\\_hl\\files.py\", line 105, in make_fid\n",
      "    fid = h5f.create(name, h5f.ACC_TRUNC, fapl=fapl, fcpl=fcpl)\n",
      "  File \"h5py\\_objects.pyx\", line 54, in h5py._objects.with_phil.wrapper\n",
      "  File \"h5py\\_objects.pyx\", line 55, in h5py._objects.with_phil.wrapper\n",
      "  File \"h5py\\h5f.pyx\", line 98, in h5py.h5f.create\n",
      "OSError: Unable to create file (unable to open file: name = './_data/test.hdf5', errno = 2, error message = 'No such file or directory', flags = 13, o_flags = 302)\n",
      "-------------------- >> begin captured stdout << ---------------------\n",
      "flux_qubit_eigenvecs()\n",
      "\n",
      "--------------------- >> end captured stdout << ----------------------\n",
      "\n",
      "======================================================================\n",
      "ERROR: test_flux_qubit.test_flux_qubit_get_spectrum_vs_paramvals_filewrite\n",
      "----------------------------------------------------------------------\n",
      "Traceback (most recent call last):\n",
      "  File \"C:\\Users\\drjen\\Miniconda3\\envs\\py35\\lib\\site-packages\\nose\\case.py\", line 198, in runTest\n",
      "    self.test(*self.arg)\n",
      "  File \"c:\\users\\drjen\\pycharmprojects\\scqubits\\scqubits\\tests\\test_flux_qubit.py\", line 335, in test_flux_qubit_get_spectrum_vs_paramvals_filewrite\n",
      "    get_eigenstates=True, filename='./_data/tst_tmp')\n",
      "  File \"c:\\users\\drjen\\pycharmprojects\\scqubits\\scqubits\\core\\qubit_base.py\", line 288, in get_spectrum_vs_paramvals\n",
      "    spectrumdata.filewrite(filename)\n",
      "  File \"c:\\users\\drjen\\pycharmprojects\\scqubits\\scqubits\\core\\data_containers.py\", line 146, in filewrite\n",
      "    [self.param_name, \"spectrum energies\", \"states\", \"mat_elem\"], self.system_params)\n",
      "  File \"c:\\users\\drjen\\pycharmprojects\\scqubits\\scqubits\\utils\\file_write.py\", line 47, in filewrite_h5data\n",
      "    h5file = h5py.File(filename + '.hdf5', 'w')\n",
      "  File \"C:\\Users\\drjen\\Miniconda3\\envs\\py35\\lib\\site-packages\\h5py\\_hl\\files.py\", line 269, in __init__\n",
      "    fid = make_fid(name, mode, userblock_size, fapl, swmr=swmr)\n",
      "  File \"C:\\Users\\drjen\\Miniconda3\\envs\\py35\\lib\\site-packages\\h5py\\_hl\\files.py\", line 105, in make_fid\n",
      "    fid = h5f.create(name, h5f.ACC_TRUNC, fapl=fapl, fcpl=fcpl)\n",
      "  File \"h5py\\_objects.pyx\", line 54, in h5py._objects.with_phil.wrapper\n",
      "  File \"h5py\\_objects.pyx\", line 55, in h5py._objects.with_phil.wrapper\n",
      "  File \"h5py\\h5f.pyx\", line 98, in h5py.h5f.create\n",
      "OSError: Unable to create file (unable to open file: name = './_data/tst_tmp.hdf5', errno = 2, error message = 'No such file or directory', flags = 13, o_flags = 302)\n",
      "-------------------- >> begin captured stdout << ---------------------\n",
      "flux_qubit_get_spectrum_vs_paramvals_filewrite()\n",
      "\n",
      "[====================] 100% Done.\n",
      "\n",
      "--------------------- >> end captured stdout << ----------------------\n",
      "\n",
      "======================================================================\n",
      "ERROR: test_flux_qubit.test_flux_qubit_plot_matelem_vs_paramvals\n",
      "----------------------------------------------------------------------\n",
      "Traceback (most recent call last):\n",
      "  File \"C:\\Users\\drjen\\Miniconda3\\envs\\py35\\lib\\site-packages\\nose\\case.py\", line 198, in runTest\n",
      "    self.test(*self.arg)\n",
      "  File \"c:\\users\\drjen\\pycharmprojects\\scqubits\\scqubits\\tests\\test_flux_qubit.py\", line 492, in test_flux_qubit_plot_matelem_vs_paramvals\n",
      "    filename='./_data/test')\n",
      "  File \"c:\\users\\drjen\\pycharmprojects\\scqubits\\scqubits\\core\\qubit_base.py\", line 413, in plot_matelem_vs_paramvals\n",
      "    filename=filename, fig_ax=fig_ax)\n",
      "  File \"c:\\users\\drjen\\pycharmprojects\\scqubits\\scqubits\\utils\\plotting.py\", line 437, in matelem_vs_paramvals\n",
      "    out_file = mplpdf.PdfPages(filename + '.pdf')\n",
      "  File \"C:\\Users\\drjen\\Miniconda3\\envs\\py35\\lib\\site-packages\\matplotlib\\backends\\backend_pdf.py\", line 2450, in __init__\n",
      "    self._file = PdfFile(filename, metadata=metadata)\n",
      "  File \"C:\\Users\\drjen\\Miniconda3\\envs\\py35\\lib\\site-packages\\matplotlib\\backends\\backend_pdf.py\", line 433, in __init__\n",
      "    fh, opened = cbook.to_filehandle(filename, \"wb\", return_opened=True)\n",
      "  File \"C:\\Users\\drjen\\Miniconda3\\envs\\py35\\lib\\site-packages\\matplotlib\\cbook\\__init__.py\", line 392, in to_filehandle\n",
      "    fh = open(fname, flag, encoding=encoding)\n",
      "FileNotFoundError: [Errno 2] No such file or directory: './_data/test.pdf'\n",
      "-------------------- >> begin captured stdout << ---------------------\n",
      "flux_qubit_plot_matelem_vs_paramvals()\n",
      "\n",
      "[====================] 100% Done.\n",
      "\n",
      "--------------------- >> end captured stdout << ----------------------\n",
      "\n",
      "======================================================================\n",
      "FAIL: test_flux_qubit.test_flux_qubit_matrixelement_table\n",
      "----------------------------------------------------------------------\n",
      "Traceback (most recent call last):\n",
      "  File \"C:\\Users\\drjen\\Miniconda3\\envs\\py35\\lib\\site-packages\\nose\\case.py\", line 198, in runTest\n",
      "    self.test(*self.arg)\n",
      "  File \"c:\\users\\drjen\\pycharmprojects\\scqubits\\scqubits\\tests\\test_flux_qubit.py\", line 474, in test_flux_qubit_matrixelement_table\n",
      "    assert np.allclose(reference_matrix, calculated_matrix)\n",
      "AssertionError: \n",
      "-------------------- >> begin captured stdout << ---------------------\n",
      "flux_qubit_matrixelement_table()\n",
      "\n",
      "--------------------- >> end captured stdout << ----------------------\n",
      "\n",
      "----------------------------------------------------------------------\n",
      "Ran 48 tests in 188.862s\n",
      "\n",
      "FAILED (errors=4, failures=1)\n"
     ]
    },
    {
     "ename": "FileNotFoundError",
     "evalue": "[WinError 3] The system cannot find the path specified: './_tempdata/'",
     "output_type": "error",
     "traceback": [
      "\u001b[1;31m---------------------------------------------------------------------------\u001b[0m",
      "\u001b[1;31mFileNotFoundError\u001b[0m                         Traceback (most recent call last)",
      "\u001b[1;32m<ipython-input-1-28a42d07efd4>\u001b[0m in \u001b[0;36m<module>\u001b[1;34m\u001b[0m\n\u001b[0;32m      1\u001b[0m \u001b[1;32mimport\u001b[0m \u001b[0mscqubits\u001b[0m\u001b[1;33m.\u001b[0m\u001b[0mtesting\u001b[0m \u001b[1;32mas\u001b[0m \u001b[0mtst\u001b[0m\u001b[1;33m\u001b[0m\u001b[0m\n\u001b[1;32m----> 2\u001b[1;33m \u001b[0mtst\u001b[0m\u001b[1;33m.\u001b[0m\u001b[0mrun\u001b[0m\u001b[1;33m(\u001b[0m\u001b[1;33m)\u001b[0m\u001b[1;33m\u001b[0m\u001b[0m\n\u001b[0m",
      "\u001b[1;32mc:\\users\\drjen\\pycharmprojects\\scqubits\\scqubits\\testing.py\u001b[0m in \u001b[0;36mrun\u001b[1;34m()\u001b[0m\n\u001b[0;32m     24\u001b[0m         \u001b[0mos\u001b[0m\u001b[1;33m.\u001b[0m\u001b[0mmakedirs\u001b[0m\u001b[1;33m(\u001b[0m\u001b[0mTEMPDIR\u001b[0m\u001b[1;33m)\u001b[0m\u001b[1;33m\u001b[0m\u001b[0m\n\u001b[0;32m     25\u001b[0m     \u001b[0mnose\u001b[0m\u001b[1;33m.\u001b[0m\u001b[0mrun\u001b[0m\u001b[1;33m(\u001b[0m\u001b[0mdefaultTest\u001b[0m\u001b[1;33m=\u001b[0m\u001b[1;34m\"scqubits.tests\"\u001b[0m\u001b[1;33m,\u001b[0m \u001b[0margv\u001b[0m\u001b[1;33m=\u001b[0m\u001b[1;33m[\u001b[0m\u001b[1;34m'nosetests'\u001b[0m\u001b[1;33m,\u001b[0m \u001b[1;34m'-v'\u001b[0m\u001b[1;33m,\u001b[0m \u001b[1;34m'--nologcapture'\u001b[0m\u001b[1;33m]\u001b[0m\u001b[1;33m)\u001b[0m\u001b[1;33m\u001b[0m\u001b[0m\n\u001b[1;32m---> 26\u001b[1;33m     \u001b[0mshutil\u001b[0m\u001b[1;33m.\u001b[0m\u001b[0mrmtree\u001b[0m\u001b[1;33m(\u001b[0m\u001b[0mTEMPDIR\u001b[0m\u001b[1;33m)\u001b[0m\u001b[1;33m\u001b[0m\u001b[0m\n\u001b[0m",
      "\u001b[1;32m~\\Miniconda3\\envs\\py35\\lib\\shutil.py\u001b[0m in \u001b[0;36mrmtree\u001b[1;34m(path, ignore_errors, onerror)\u001b[0m\n\u001b[0;32m    492\u001b[0m             \u001b[0mos\u001b[0m\u001b[1;33m.\u001b[0m\u001b[0mclose\u001b[0m\u001b[1;33m(\u001b[0m\u001b[0mfd\u001b[0m\u001b[1;33m)\u001b[0m\u001b[1;33m\u001b[0m\u001b[0m\n\u001b[0;32m    493\u001b[0m     \u001b[1;32melse\u001b[0m\u001b[1;33m:\u001b[0m\u001b[1;33m\u001b[0m\u001b[0m\n\u001b[1;32m--> 494\u001b[1;33m         \u001b[1;32mreturn\u001b[0m \u001b[0m_rmtree_unsafe\u001b[0m\u001b[1;33m(\u001b[0m\u001b[0mpath\u001b[0m\u001b[1;33m,\u001b[0m \u001b[0monerror\u001b[0m\u001b[1;33m)\u001b[0m\u001b[1;33m\u001b[0m\u001b[0m\n\u001b[0m\u001b[0;32m    495\u001b[0m \u001b[1;33m\u001b[0m\u001b[0m\n\u001b[0;32m    496\u001b[0m \u001b[1;31m# Allow introspection of whether or not the hardening against symlink\u001b[0m\u001b[1;33m\u001b[0m\u001b[1;33m\u001b[0m\u001b[0m\n",
      "\u001b[1;32m~\\Miniconda3\\envs\\py35\\lib\\shutil.py\u001b[0m in \u001b[0;36m_rmtree_unsafe\u001b[1;34m(path, onerror)\u001b[0m\n\u001b[0;32m    374\u001b[0m         \u001b[0mnames\u001b[0m \u001b[1;33m=\u001b[0m \u001b[0mos\u001b[0m\u001b[1;33m.\u001b[0m\u001b[0mlistdir\u001b[0m\u001b[1;33m(\u001b[0m\u001b[0mpath\u001b[0m\u001b[1;33m)\u001b[0m\u001b[1;33m\u001b[0m\u001b[0m\n\u001b[0;32m    375\u001b[0m     \u001b[1;32mexcept\u001b[0m \u001b[0mOSError\u001b[0m\u001b[1;33m:\u001b[0m\u001b[1;33m\u001b[0m\u001b[0m\n\u001b[1;32m--> 376\u001b[1;33m         \u001b[0monerror\u001b[0m\u001b[1;33m(\u001b[0m\u001b[0mos\u001b[0m\u001b[1;33m.\u001b[0m\u001b[0mlistdir\u001b[0m\u001b[1;33m,\u001b[0m \u001b[0mpath\u001b[0m\u001b[1;33m,\u001b[0m \u001b[0msys\u001b[0m\u001b[1;33m.\u001b[0m\u001b[0mexc_info\u001b[0m\u001b[1;33m(\u001b[0m\u001b[1;33m)\u001b[0m\u001b[1;33m)\u001b[0m\u001b[1;33m\u001b[0m\u001b[0m\n\u001b[0m\u001b[0;32m    377\u001b[0m     \u001b[1;32mfor\u001b[0m \u001b[0mname\u001b[0m \u001b[1;32min\u001b[0m \u001b[0mnames\u001b[0m\u001b[1;33m:\u001b[0m\u001b[1;33m\u001b[0m\u001b[0m\n\u001b[0;32m    378\u001b[0m         \u001b[0mfullname\u001b[0m \u001b[1;33m=\u001b[0m \u001b[0mos\u001b[0m\u001b[1;33m.\u001b[0m\u001b[0mpath\u001b[0m\u001b[1;33m.\u001b[0m\u001b[0mjoin\u001b[0m\u001b[1;33m(\u001b[0m\u001b[0mpath\u001b[0m\u001b[1;33m,\u001b[0m \u001b[0mname\u001b[0m\u001b[1;33m)\u001b[0m\u001b[1;33m\u001b[0m\u001b[0m\n",
      "\u001b[1;32m~\\Miniconda3\\envs\\py35\\lib\\shutil.py\u001b[0m in \u001b[0;36m_rmtree_unsafe\u001b[1;34m(path, onerror)\u001b[0m\n\u001b[0;32m    372\u001b[0m     \u001b[0mnames\u001b[0m \u001b[1;33m=\u001b[0m \u001b[1;33m[\u001b[0m\u001b[1;33m]\u001b[0m\u001b[1;33m\u001b[0m\u001b[0m\n\u001b[0;32m    373\u001b[0m     \u001b[1;32mtry\u001b[0m\u001b[1;33m:\u001b[0m\u001b[1;33m\u001b[0m\u001b[0m\n\u001b[1;32m--> 374\u001b[1;33m         \u001b[0mnames\u001b[0m \u001b[1;33m=\u001b[0m \u001b[0mos\u001b[0m\u001b[1;33m.\u001b[0m\u001b[0mlistdir\u001b[0m\u001b[1;33m(\u001b[0m\u001b[0mpath\u001b[0m\u001b[1;33m)\u001b[0m\u001b[1;33m\u001b[0m\u001b[0m\n\u001b[0m\u001b[0;32m    375\u001b[0m     \u001b[1;32mexcept\u001b[0m \u001b[0mOSError\u001b[0m\u001b[1;33m:\u001b[0m\u001b[1;33m\u001b[0m\u001b[0m\n\u001b[0;32m    376\u001b[0m         \u001b[0monerror\u001b[0m\u001b[1;33m(\u001b[0m\u001b[0mos\u001b[0m\u001b[1;33m.\u001b[0m\u001b[0mlistdir\u001b[0m\u001b[1;33m,\u001b[0m \u001b[0mpath\u001b[0m\u001b[1;33m,\u001b[0m \u001b[0msys\u001b[0m\u001b[1;33m.\u001b[0m\u001b[0mexc_info\u001b[0m\u001b[1;33m(\u001b[0m\u001b[1;33m)\u001b[0m\u001b[1;33m)\u001b[0m\u001b[1;33m\u001b[0m\u001b[0m\n",
      "\u001b[1;31mFileNotFoundError\u001b[0m: [WinError 3] The system cannot find the path specified: './_tempdata/'"
     ]
    }
   ],
   "source": [
    "import scqubits.testing as tst\n",
    "tst.run()"
   ]
  },
  {
   "cell_type": "code",
   "execution_count": null,
   "metadata": {},
   "outputs": [],
   "source": []
  }
 ],
 "metadata": {
  "kernelspec": {
   "display_name": "Python 3",
   "language": "python",
   "name": "python3"
  },
  "language_info": {
   "codemirror_mode": {
    "name": "ipython",
    "version": 3
   },
   "file_extension": ".py",
   "mimetype": "text/x-python",
   "name": "python",
   "nbconvert_exporter": "python",
   "pygments_lexer": "ipython3",
   "version": "3.5.5"
  }
 },
 "nbformat": 4,
 "nbformat_minor": 2
}
