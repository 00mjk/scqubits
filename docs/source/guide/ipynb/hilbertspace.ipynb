{
 "cells": [
  {
   "cell_type": "code",
   "execution_count": 1,
   "metadata": {
    "nbsphinx": "hidden",
    "pycharm": {
     "is_executing": false
    }
   },
   "outputs": [],
   "source": [
    "%matplotlib inline\n",
    "%config InlineBackend.figure_format = 'svg'"
   ]
  },
  {
   "cell_type": "markdown",
   "metadata": {},
   "source": [
    "# Composite Hilbert Spaces, QuTiP Interface"
   ]
  },
  {
   "cell_type": "markdown",
   "metadata": {},
   "source": [
    "The `HilbertSpace` class provides data structures and methods for handling composite Hilbert spaces which may consist of multiple qubits or qubits and oscillators coupled to each other. To harness the power of QuTiP, a toolbox for studying stationary and dynamical properties of closed and open quantum systems (and much more), `HilbertSpace` provides a convenient interface: it generates `qutip.qobj` objects which are then directly handled by QuTiP."
   ]
  },
  {
   "cell_type": "code",
   "execution_count": 2,
   "metadata": {
    "ExecuteTime": {
     "end_time": "2016-09-05T09:09:54.232690",
     "start_time": "2016-09-05T09:09:53.862693"
    },
    "init_cell": true,
    "pycharm": {
     "is_executing": false
    },
    "scrolled": true
   },
   "outputs": [],
   "source": [
    "import scqubits as qubit\n",
    "\n",
    "import numpy as np"
   ]
  },
  {
   "cell_type": "markdown",
   "metadata": {},
   "source": [
    "## Example: two transmons coupled to a harmonic mode\n",
    "\n",
    "Transmon qubits can be capacitively coupled to a common harmonic mode, realized by an LC oscillator or a transmission-line resonator. The Hamiltonian describing such a composite system is given by:\n",
    "\\begin{equation}\n",
    "H=\\sum_{\\alpha=1,2}\\sum_{j} E_j^{(\\alpha)}|\\alpha j\\rangle\\langle \\alpha j| + \\omega_r a^\\dagger a + \\sum_{\\alpha=1,2}\\sum_{j,k}g^{(\\alpha)}_{jk} |\\alpha j\\rangle \\langle \\alpha k|(a+a^\\dagger),\n",
    "\\end{equation}\n",
    "where $\\alpha=1,2$ enumerates the two transmon systems. The eigenenergies of the two transmon qubits are denoted $E_j^\\alpha$, $\\omega_r$ is the (angular) frequency of the resonator, and $g^{(\\alpha)}_{jk} = g_\\alpha \\langle \\alpha j | n_\\alpha | \\alpha k \\rangle$ parametrizes the coupling between the qubits and the resonator.\n",
    "\n",
    "### Create Hilbert space components\n",
    "\n",
    "The first step consists of creating the objects describing the building blocks of the full Hilbert space. Here, these will be two transmons and an oscillator:"
   ]
  },
  {
   "cell_type": "code",
   "execution_count": 3,
   "metadata": {
    "ExecuteTime": {
     "end_time": "2016-08-23T15:16:24.535943",
     "start_time": "2016-08-23T15:16:24.523929"
    },
    "pycharm": {
     "is_executing": false
    }
   },
   "outputs": [],
   "source": [
    "tmon1 = qubit.Transmon(\n",
    "    EJ = 40.0,\n",
    "    EC = 0.2,\n",
    "    ng = 0.3,\n",
    "    ncut = 40,\n",
    "    truncated_dim = 3     # after diagonalization, we will keep 3 levels\n",
    ")\n",
    "\n",
    "tmon2 = qubit.Transmon(\n",
    "    EJ = 3.0,\n",
    "    EC = 1.0,\n",
    "    ng = 0.0,\n",
    "    ncut = 10,\n",
    "    truncated_dim = 4\n",
    ")\n",
    "\n",
    "resonator = qubit.Oscillator(\n",
    "    omega = 6.0,\n",
    "    truncated_dim=4  # up to 3 photons (0,1,2,3)\n",
    ")"
   ]
  },
  {
   "cell_type": "markdown",
   "metadata": {},
   "source": [
    "The system objects are grouped into a Python list and in this form used for the creation and initialization of a `HilbertSpace` instance. Once created, an unqualified call to this instance outputs a summary of the composite Hilbert space."
   ]
  },
  {
   "cell_type": "code",
   "execution_count": 4,
   "metadata": {
    "ExecuteTime": {
     "end_time": "2016-08-23T15:16:25.169276",
     "start_time": "2016-08-23T15:16:25.141240"
    },
    "pycharm": {
     "is_executing": false
    }
   },
   "outputs": [
    {
     "data": {
      "text/plain": "====== HilbertSpace object ======\n\nTransmon qubit\n ———— PARAMETERS ————\ntruncated_dim\t: 3\nEJ\t: 40.0\nng\t: 0.3\nEC\t: 0.2\nncut\t: 40\nHilbert space dimension\t: 81\n\nTransmon qubit\n ———— PARAMETERS ————\ntruncated_dim\t: 4\nEJ\t: 3.0\nng\t: 0.0\nEC\t: 1.0\nncut\t: 10\nHilbert space dimension\t: 21\n\nOscillator\n ———— PARAMETERS ————\nomega\t: 6.0\ntruncated_dim\t: 4\nHilbert space dimension\t: 4"
     },
     "metadata": {},
     "output_type": "execute_result",
     "execution_count": 4
    }
   ],
   "source": [
    "hilbertspc = qubit.HilbertSpace([tmon1, tmon2, resonator])\n",
    "\n",
    "hilbertspc"
   ]
  },
  {
   "cell_type": "markdown",
   "metadata": {},
   "source": [
    "### Set up the Hamiltonian in the composite Hilbert space"
   ]
  },
  {
   "cell_type": "markdown",
   "metadata": {},
   "source": [
    "To convert the joint Hamiltonian (see above) into code, we require the Hamiltonians of the individual subsystems. `HilbertSpace.diag_hamiltonian(subsys)` looks up the eigenenergies of the subsystem `subsys`, constructs the corresponding diagonal Hamiltonian of that subsystem, and finally calculates the Kronecker product to lift the operator into the full composite Hilbert space."
   ]
  },
  {
   "cell_type": "code",
   "execution_count": 5,
   "metadata": {
    "pycharm": {
     "is_executing": false
    }
   },
   "outputs": [],
   "source": [
    "# Define resonator Hamiltonian (full product Hilbert space)\n",
    "hres = hilbertspc.diag_hamiltonian(resonator)\n",
    "\n",
    "# Get diagonalized tmon1 and tmon2 Hamiltonians (full product Hilbert space)\n",
    "h1 = hilbertspc.diag_hamiltonian(tmon1)\n",
    "h2 = hilbertspc.diag_hamiltonian(tmon2)"
   ]
  },
  {
   "cell_type": "markdown",
   "metadata": {},
   "source": [
    " The resulting operators are provided in `qutip.qobj` format:"
   ]
  },
  {
   "cell_type": "code",
   "execution_count": 6,
   "metadata": {
    "pycharm": {
     "is_executing": false
    }
   },
   "outputs": [
    {
     "data": {
      "text/plain": "Quantum object: dims = [[3, 4, 4], [3, 4, 4]], shape = (48, 48), type = oper, isherm = True\nQobj data =\n[[-36.05064983   0.           0.         ...   0.           0.\n    0.        ]\n [  0.         -36.05064983   0.         ...   0.           0.\n    0.        ]\n [  0.           0.         -36.05064983 ...   0.           0.\n    0.        ]\n ...\n [  0.           0.           0.         ... -20.67410141   0.\n    0.        ]\n [  0.           0.           0.         ...   0.         -20.67410141\n    0.        ]\n [  0.           0.           0.         ...   0.           0.\n  -20.67410141]]",
      "text/latex": "Quantum object: dims = [[3, 4, 4], [3, 4, 4]], shape = (48, 48), type = oper, isherm = True\\begin{equation*}\\left(\\begin{array}{*{11}c}-36.051 & 0.0 & 0.0 & 0.0 & 0.0 & \\cdots & 0.0 & 0.0 & 0.0 & 0.0 & 0.0\\\\0.0 & -36.051 & 0.0 & 0.0 & 0.0 & \\cdots & 0.0 & 0.0 & 0.0 & 0.0 & 0.0\\\\0.0 & 0.0 & -36.051 & 0.0 & 0.0 & \\cdots & 0.0 & 0.0 & 0.0 & 0.0 & 0.0\\\\0.0 & 0.0 & 0.0 & -36.051 & 0.0 & \\cdots & 0.0 & 0.0 & 0.0 & 0.0 & 0.0\\\\0.0 & 0.0 & 0.0 & 0.0 & -36.051 & \\cdots & 0.0 & 0.0 & 0.0 & 0.0 & 0.0\\\\\\vdots & \\vdots & \\vdots & \\vdots & \\vdots & \\ddots & \\vdots & \\vdots & \\vdots & \\vdots & \\vdots\\\\0.0 & 0.0 & 0.0 & 0.0 & 0.0 & \\cdots & -20.674 & 0.0 & 0.0 & 0.0 & 0.0\\\\0.0 & 0.0 & 0.0 & 0.0 & 0.0 & \\cdots & 0.0 & -20.674 & 0.0 & 0.0 & 0.0\\\\0.0 & 0.0 & 0.0 & 0.0 & 0.0 & \\cdots & 0.0 & 0.0 & -20.674 & 0.0 & 0.0\\\\0.0 & 0.0 & 0.0 & 0.0 & 0.0 & \\cdots & 0.0 & 0.0 & 0.0 & -20.674 & 0.0\\\\0.0 & 0.0 & 0.0 & 0.0 & 0.0 & \\cdots & 0.0 & 0.0 & 0.0 & 0.0 & -20.674\\\\\\end{array}\\right)\\end{equation*}"
     },
     "metadata": {},
     "output_type": "execute_result",
     "execution_count": 6
    }
   ],
   "source": [
    "h1"
   ]
  },
  {
   "cell_type": "markdown",
   "metadata": {},
   "source": [
    "To complete the construction of the full system Hamiltonian, the coupling Hamiltonian must still be constructed. This requires evaluation of the involved charge matrix elements entering the coupling parameters $g^{(\\alpha)}_{jk} = g_\\alpha \\langle \\alpha j | n_\\alpha | \\alpha k \\rangle$:"
   ]
  },
  {
   "cell_type": "code",
   "execution_count": 7,
   "metadata": {
    "ExecuteTime": {
     "end_time": "2016-08-23T15:16:26.919100",
     "start_time": "2016-08-23T15:16:26.907082"
    },
    "pycharm": {
     "is_executing": false
    }
   },
   "outputs": [],
   "source": [
    "g1 = 0.1  # coupling strength resonator-tmon1 (without charge matrix elements)\n",
    "g2 = 0.2  # coupling strength resonator-tmon2 (without charge matrix elements)\n",
    "\n",
    "dim1 = tmon1.truncated_dim\n",
    "dim2 = tmon2.truncated_dim\n",
    "\n",
    "_, evecs1 = tmon1.eigensys(dim1)\n",
    "_, evecs2 = tmon2.eigensys(dim2)\n",
    "gmat1 = g1 * qubit.get_matrixelement_table(tmon1.n_operator(), evecs1)   # coupling constants for tmon1\n",
    "gmat2 = g2 * qubit.get_matrixelement_table(tmon2.n_operator(), evecs2)   # and for tmon2"
   ]
  },
  {
   "cell_type": "markdown",
   "metadata": {},
   "source": [
    "In the coupling Hamiltonian, operators of the type $|\\alpha j\\rangle\\langle \\alpha k|$ appear. Such Hubbard operators are provided as `HilbertSpace.hubbard_operator(j,k,subsys)`. The same applies for the annihilation operator of the oscillator in the joint Hilbert space, obtained from `HilbertSpace.annihilate(subsys)`.\n",
    "\n",
    "The following few lines construct the coupling Hamiltonian and then compose the full system Hamiltonian."
   ]
  },
  {
   "cell_type": "code",
   "execution_count": 8,
   "metadata": {
    "ExecuteTime": {
     "end_time": "2016-08-23T15:16:27.983649",
     "start_time": "2016-08-23T15:16:27.864493"
    },
    "pycharm": {
     "is_executing": false
    }
   },
   "outputs": [],
   "source": [
    "hbd = hilbertspc.hubbard_operator\n",
    "\n",
    "v1 = sum([gmat1[j][k] * hbd(j,k,tmon1) for j in range(dim1) for k in range(dim1)])\n",
    "v2 = sum([gmat2[j][k] * hbd(j,k,tmon2) for j in range(dim2) for k in range(dim2)])\n",
    "\n",
    "a = hilbertspc.annihilate(resonator)\n",
    "\n",
    "hamiltonian1 = (v1 + v2) * (a + a.dag())\n",
    "\n",
    "\n",
    "hamiltonian0 = h1 + h2 + hres\n",
    "hamiltonian = hamiltonian0 + hamiltonian1"
   ]
  },
  {
   "cell_type": "markdown",
   "metadata": {},
   "source": [
    "### Obtaining eigenspectrum via QuTiP\n",
    "\n",
    "Since `hamiltonian` is a proper qutip.qobj, all QuTiP routines are now available. For instance, here is how to obtain eigenenergies and eigenstates:"
   ]
  },
  {
   "cell_type": "code",
   "execution_count": 9,
   "metadata": {
    "ExecuteTime": {
     "end_time": "2016-08-23T15:16:29.134776",
     "start_time": "2016-08-23T15:16:29.097716"
    },
    "pycharm": {
     "is_executing": false
    }
   },
   "outputs": [
    {
     "data": {
      "text/plain": "array([-36.99001175, -32.24866076, -31.31265573, -31.00050268])"
     },
     "metadata": {},
     "output_type": "execute_result",
     "execution_count": 9
    }
   ],
   "source": [
    "evals, evecs = hamiltonian.eigenstates()\n",
    "\n",
    "evals[0:4]"
   ]
  },
  {
   "cell_type": "markdown",
   "metadata": {},
   "source": [
    "### Calculating spectra as a function of an external parameter\n",
    "\n",
    "Consider flux-tuning one of the transmons, say transmon 1. In that case, its Josephson energy becomes flux-dependent: $E_{J1}\\to E_{J1} \\cos(\\pi\\Phi_\\text{ext}/\\Phi_0)$. We modify the definition of the Hamiltonian accordingly, making it a function of the reduced flux $\\Phi_\\text{ext}/\\Phi_0$:"
   ]
  },
  {
   "cell_type": "code",
   "execution_count": 10,
   "metadata": {
    "ExecuteTime": {
     "end_time": "2016-08-23T15:16:30.407419",
     "start_time": "2016-08-23T15:16:30.335217"
    },
    "pycharm": {
     "is_executing": false
    }
   },
   "outputs": [],
   "source": [
    "ham0 = h2 + hres  # partial Hamiltonian of transmon 2 and resonator\n",
    "\n",
    "\n",
    "def hamiltonian(flux):\n",
    "    tmon1.EJ = 40.0 * np.cos(np.pi*flux)\n",
    "    h1 = hilbertspc.diag_hamiltonian(tmon1)\n",
    "    v1 = sum([gmat1[j][k] * hbd(j,k,tmon1) for j in range(dim1) for k in range(dim1)])\n",
    "    \n",
    "    return (h1 + ham0 + (v1 + v2) * (a + a.dag()))"
   ]
  },
  {
   "cell_type": "markdown",
   "metadata": {},
   "source": [
    "Once the list of desired flux values is generated, `HilbertSpace.get_spectrum_vs_paramvals` is available to obtain the scan of the spectrum over flux:"
   ]
  },
  {
   "cell_type": "code",
   "execution_count": 11,
   "metadata": {
    "ExecuteTime": {
     "end_time": "2016-08-23T15:16:37.382159",
     "start_time": "2016-08-23T15:16:33.014656"
    },
    "pycharm": {
     "is_executing": false
    }
   },
   "outputs": [
    {
     "name": "stdout",
     "text": [
      "\n",
      "[====================] 100% Done.\r\n"
     ],
     "output_type": "stream"
    }
   ],
   "source": [
    "flux_list = np.linspace(-0.1, 0.6, 100)\n",
    "specdata = hilbertspc.get_spectrum_vs_paramvals(hamiltonian, flux_list, evals_count=15, get_eigenstates=True)"
   ]
  },
  {
   "cell_type": "markdown",
   "metadata": {},
   "source": [
    "The returned data are stored in a `SpecData` object. Here is how to inspect the eigenenergies for the third (indicing starts at 0) flux value:"
   ]
  },
  {
   "cell_type": "code",
   "execution_count": 12,
   "metadata": {
    "ExecuteTime": {
     "end_time": "2016-08-23T15:16:55.683124",
     "start_time": "2016-08-23T15:16:55.671108"
    },
    "pycharm": {
     "is_executing": false
    }
   },
   "outputs": [
    {
     "data": {
      "text/plain": "array([-35.61671109, -30.87536252, -29.93935539, -29.62839549,\n       -27.95521996, -24.89469034, -23.95779031, -23.64010506,\n       -23.21389138, -22.27788515, -21.97003287, -20.49827277,\n       -18.91372364, -18.6059474 , -17.97609201])"
     },
     "metadata": {},
     "output_type": "execute_result",
     "execution_count": 12
    }
   ],
   "source": [
    "specdata.energy_table[2]"
   ]
  },
  {
   "cell_type": "markdown",
   "metadata": {},
   "source": [
    "### Plotting an absorption spectrum\n",
    "\n",
    "Spectroscopy experiments probe transition energies, not absolute energies. `HilbertSpace.absorption_spectrum` processes the calculated data `specdata` and provides absorption data. In the following example, all transition energies are relative to the ground state energy. The reference state may be given in bare-state form; here, we specify that we mean the state closest to the bare state with both transmons in the ground state, and no photon in the resonator:"
   ]
  },
  {
   "cell_type": "code",
   "execution_count": 13,
   "metadata": {
    "ExecuteTime": {
     "end_time": "2016-08-23T15:14:37.679643",
     "start_time": "2016-08-23T15:14:36.682518"
    },
    "pycharm": {
     "is_executing": false
    }
   },
   "outputs": [
    {
     "name": "stdout",
     "text": [
      "\n",
      "[====================] 100% Done.\r\n"
     ],
     "output_type": "stream"
    }
   ],
   "source": [
    "absorptiondata = hilbertspc.absorption_spectrum(specdata, ((tmon1, 0), (tmon2, 0), (resonator, 0)), initial_as_bare=True)"
   ]
  },
  {
   "cell_type": "markdown",
   "metadata": {},
   "source": [
    "The returned data forms a new `SpecData` object and can be inspected as before:"
   ]
  },
  {
   "cell_type": "code",
   "execution_count": 14,
   "metadata": {
    "ExecuteTime": {
     "end_time": "2016-08-23T15:36:29.156899",
     "start_time": "2016-08-23T15:36:29.144367"
    },
    "pycharm": {
     "is_executing": false
    }
   },
   "outputs": [
    {
     "data": {
      "text/plain": "array([ 0.        ,  4.74134965,  5.67735584,  5.98885753,  7.72433769,\n       10.72256393, 11.65946188, 11.97769128, 12.46566932, 13.40167469,\n       13.71033934, 15.24395056, 16.7040735 , 17.01076372, 17.64170233])"
     },
     "metadata": {},
     "output_type": "execute_result",
     "execution_count": 14
    }
   ],
   "source": [
    "absorptiondata.energy_table[5]"
   ]
  },
  {
   "cell_type": "markdown",
   "metadata": {},
   "source": [
    "The `SpecData` class provides built-in methods for plotting the energy data as a function of the scanned parameter:"
   ]
  },
  {
   "cell_type": "code",
   "execution_count": 15,
   "metadata": {
    "ExecuteTime": {
     "end_time": "2016-08-23T15:14:40.928218",
     "start_time": "2016-08-23T15:14:40.720014"
    },
    "pycharm": {
     "is_executing": false
    }
   },
   "outputs": [
    {
     "data": {
      "image/svg+xml": "<?xml version=\"1.0\" encoding=\"utf-8\" standalone=\"no\"?>\r\n<!DOCTYPE svg PUBLIC \"-//W3C//DTD SVG 1.1//EN\"\r\n  \"http://www.w3.org/Graphics/SVG/1.1/DTD/svg11.dtd\">\r\n<!-- Created with matplotlib (https://matplotlib.org/) -->\r\n<svg height=\"264.630625pt\" version=\"1.1\" viewBox=\"0 0 392.30625 264.630625\" width=\"392.30625pt\" xmlns=\"http://www.w3.org/2000/svg\" xmlns:xlink=\"http://www.w3.org/1999/xlink\">\r\n <defs>\r\n  <style type=\"text/css\">\r\n*{stroke-linecap:butt;stroke-linejoin:round;}\r\n  </style>\r\n </defs>\r\n <g id=\"figure_1\">\r\n  <g id=\"patch_1\">\r\n   <path d=\"M 0 264.630625 \r\nL 392.30625 264.630625 \r\nL 392.30625 0 \r\nL 0 0 \r\nz\r\n\" style=\"fill:none;\"/>\r\n  </g>\r\n  <g id=\"axes_1\">\r\n   <g id=\"patch_2\">\r\n    <path d=\"M 46.80625 228.14 \r\nL 381.60625 228.14 \r\nL 381.60625 10.7 \r\nL 46.80625 10.7 \r\nz\r\n\" style=\"fill:#ffffff;\"/>\r\n   </g>\r\n   <g id=\"matplotlib.axis_1\">\r\n    <g id=\"xtick_1\">\r\n     <g id=\"line2d_1\">\r\n      <defs>\r\n       <path d=\"M 0 0 \r\nL 0 3.5 \r\n\" id=\"mcc8c44141d\" style=\"stroke:#000000;stroke-width:0.8;\"/>\r\n      </defs>\r\n      <g>\r\n       <use style=\"stroke:#000000;stroke-width:0.8;\" x=\"62.024432\" xlink:href=\"#mcc8c44141d\" y=\"228.14\"/>\r\n      </g>\r\n     </g>\r\n     <g id=\"text_1\">\r\n      <!-- −0.1 -->\r\n      <defs>\r\n       <path d=\"M 52.828125 31.203125 \r\nL 5.5625 31.203125 \r\nL 5.5625 39.40625 \r\nL 52.828125 39.40625 \r\nz\r\n\" id=\"ArialMT-8722\"/>\r\n       <path d=\"M 4.15625 35.296875 \r\nQ 4.15625 48 6.765625 55.734375 \r\nQ 9.375 63.484375 14.515625 67.671875 \r\nQ 19.671875 71.875 27.484375 71.875 \r\nQ 33.25 71.875 37.59375 69.546875 \r\nQ 41.9375 67.234375 44.765625 62.859375 \r\nQ 47.609375 58.5 49.21875 52.21875 \r\nQ 50.828125 45.953125 50.828125 35.296875 \r\nQ 50.828125 22.703125 48.234375 14.96875 \r\nQ 45.65625 7.234375 40.5 3 \r\nQ 35.359375 -1.21875 27.484375 -1.21875 \r\nQ 17.140625 -1.21875 11.234375 6.203125 \r\nQ 4.15625 15.140625 4.15625 35.296875 \r\nz\r\nM 13.1875 35.296875 \r\nQ 13.1875 17.671875 17.3125 11.828125 \r\nQ 21.4375 6 27.484375 6 \r\nQ 33.546875 6 37.671875 11.859375 \r\nQ 41.796875 17.71875 41.796875 35.296875 \r\nQ 41.796875 52.984375 37.671875 58.78125 \r\nQ 33.546875 64.59375 27.390625 64.59375 \r\nQ 21.34375 64.59375 17.71875 59.46875 \r\nQ 13.1875 52.9375 13.1875 35.296875 \r\nz\r\n\" id=\"ArialMT-48\"/>\r\n       <path d=\"M 9.078125 0 \r\nL 9.078125 10.015625 \r\nL 19.09375 10.015625 \r\nL 19.09375 0 \r\nz\r\n\" id=\"ArialMT-46\"/>\r\n       <path d=\"M 37.25 0 \r\nL 28.46875 0 \r\nL 28.46875 56 \r\nQ 25.296875 52.984375 20.140625 49.953125 \r\nQ 14.984375 46.921875 10.890625 45.40625 \r\nL 10.890625 53.90625 \r\nQ 18.265625 57.375 23.78125 62.296875 \r\nQ 29.296875 67.234375 31.59375 71.875 \r\nL 37.25 71.875 \r\nz\r\n\" id=\"ArialMT-49\"/>\r\n      </defs>\r\n      <g transform=\"translate(52.154119 242.297812)scale(0.1 -0.1)\">\r\n       <use xlink:href=\"#ArialMT-8722\"/>\r\n       <use x=\"58.398438\" xlink:href=\"#ArialMT-48\"/>\r\n       <use x=\"114.013672\" xlink:href=\"#ArialMT-46\"/>\r\n       <use x=\"141.796875\" xlink:href=\"#ArialMT-49\"/>\r\n      </g>\r\n     </g>\r\n    </g>\r\n    <g id=\"xtick_2\">\r\n     <g id=\"line2d_2\">\r\n      <g>\r\n       <use style=\"stroke:#000000;stroke-width:0.8;\" x=\"105.504951\" xlink:href=\"#mcc8c44141d\" y=\"228.14\"/>\r\n      </g>\r\n     </g>\r\n     <g id=\"text_2\">\r\n      <!-- 0.0 -->\r\n      <g transform=\"translate(98.554951 242.297812)scale(0.1 -0.1)\">\r\n       <use xlink:href=\"#ArialMT-48\"/>\r\n       <use x=\"55.615234\" xlink:href=\"#ArialMT-46\"/>\r\n       <use x=\"83.398438\" xlink:href=\"#ArialMT-48\"/>\r\n      </g>\r\n     </g>\r\n    </g>\r\n    <g id=\"xtick_3\">\r\n     <g id=\"line2d_3\">\r\n      <g>\r\n       <use style=\"stroke:#000000;stroke-width:0.8;\" x=\"148.985471\" xlink:href=\"#mcc8c44141d\" y=\"228.14\"/>\r\n      </g>\r\n     </g>\r\n     <g id=\"text_3\">\r\n      <!-- 0.1 -->\r\n      <g transform=\"translate(142.035471 242.297812)scale(0.1 -0.1)\">\r\n       <use xlink:href=\"#ArialMT-48\"/>\r\n       <use x=\"55.615234\" xlink:href=\"#ArialMT-46\"/>\r\n       <use x=\"83.398438\" xlink:href=\"#ArialMT-49\"/>\r\n      </g>\r\n     </g>\r\n    </g>\r\n    <g id=\"xtick_4\">\r\n     <g id=\"line2d_4\">\r\n      <g>\r\n       <use style=\"stroke:#000000;stroke-width:0.8;\" x=\"192.46599\" xlink:href=\"#mcc8c44141d\" y=\"228.14\"/>\r\n      </g>\r\n     </g>\r\n     <g id=\"text_4\">\r\n      <!-- 0.2 -->\r\n      <defs>\r\n       <path d=\"M 50.34375 8.453125 \r\nL 50.34375 0 \r\nL 3.03125 0 \r\nQ 2.9375 3.171875 4.046875 6.109375 \r\nQ 5.859375 10.9375 9.828125 15.625 \r\nQ 13.8125 20.3125 21.34375 26.46875 \r\nQ 33.015625 36.03125 37.109375 41.625 \r\nQ 41.21875 47.21875 41.21875 52.203125 \r\nQ 41.21875 57.421875 37.46875 61 \r\nQ 33.734375 64.59375 27.734375 64.59375 \r\nQ 21.390625 64.59375 17.578125 60.78125 \r\nQ 13.765625 56.984375 13.71875 50.25 \r\nL 4.6875 51.171875 \r\nQ 5.609375 61.28125 11.65625 66.578125 \r\nQ 17.71875 71.875 27.9375 71.875 \r\nQ 38.234375 71.875 44.234375 66.15625 \r\nQ 50.25 60.453125 50.25 52 \r\nQ 50.25 47.703125 48.484375 43.546875 \r\nQ 46.734375 39.40625 42.65625 34.8125 \r\nQ 38.578125 30.21875 29.109375 22.21875 \r\nQ 21.1875 15.578125 18.9375 13.203125 \r\nQ 16.703125 10.84375 15.234375 8.453125 \r\nz\r\n\" id=\"ArialMT-50\"/>\r\n      </defs>\r\n      <g transform=\"translate(185.51599 242.297812)scale(0.1 -0.1)\">\r\n       <use xlink:href=\"#ArialMT-48\"/>\r\n       <use x=\"55.615234\" xlink:href=\"#ArialMT-46\"/>\r\n       <use x=\"83.398438\" xlink:href=\"#ArialMT-50\"/>\r\n      </g>\r\n     </g>\r\n    </g>\r\n    <g id=\"xtick_5\">\r\n     <g id=\"line2d_5\">\r\n      <g>\r\n       <use style=\"stroke:#000000;stroke-width:0.8;\" x=\"235.94651\" xlink:href=\"#mcc8c44141d\" y=\"228.14\"/>\r\n      </g>\r\n     </g>\r\n     <g id=\"text_5\">\r\n      <!-- 0.3 -->\r\n      <defs>\r\n       <path d=\"M 4.203125 18.890625 \r\nL 12.984375 20.0625 \r\nQ 14.5 12.59375 18.140625 9.296875 \r\nQ 21.78125 6 27 6 \r\nQ 33.203125 6 37.46875 10.296875 \r\nQ 41.75 14.59375 41.75 20.953125 \r\nQ 41.75 27 37.796875 30.921875 \r\nQ 33.84375 34.859375 27.734375 34.859375 \r\nQ 25.25 34.859375 21.53125 33.890625 \r\nL 22.515625 41.609375 \r\nQ 23.390625 41.5 23.921875 41.5 \r\nQ 29.546875 41.5 34.03125 44.421875 \r\nQ 38.53125 47.359375 38.53125 53.46875 \r\nQ 38.53125 58.296875 35.25 61.46875 \r\nQ 31.984375 64.65625 26.8125 64.65625 \r\nQ 21.6875 64.65625 18.265625 61.421875 \r\nQ 14.84375 58.203125 13.875 51.765625 \r\nL 5.078125 53.328125 \r\nQ 6.6875 62.15625 12.390625 67.015625 \r\nQ 18.109375 71.875 26.609375 71.875 \r\nQ 32.46875 71.875 37.390625 69.359375 \r\nQ 42.328125 66.84375 44.9375 62.5 \r\nQ 47.5625 58.15625 47.5625 53.265625 \r\nQ 47.5625 48.640625 45.0625 44.828125 \r\nQ 42.578125 41.015625 37.703125 38.765625 \r\nQ 44.046875 37.3125 47.5625 32.6875 \r\nQ 51.078125 28.078125 51.078125 21.140625 \r\nQ 51.078125 11.765625 44.234375 5.25 \r\nQ 37.40625 -1.265625 26.953125 -1.265625 \r\nQ 17.53125 -1.265625 11.296875 4.34375 \r\nQ 5.078125 9.96875 4.203125 18.890625 \r\nz\r\n\" id=\"ArialMT-51\"/>\r\n      </defs>\r\n      <g transform=\"translate(228.99651 242.297812)scale(0.1 -0.1)\">\r\n       <use xlink:href=\"#ArialMT-48\"/>\r\n       <use x=\"55.615234\" xlink:href=\"#ArialMT-46\"/>\r\n       <use x=\"83.398438\" xlink:href=\"#ArialMT-51\"/>\r\n      </g>\r\n     </g>\r\n    </g>\r\n    <g id=\"xtick_6\">\r\n     <g id=\"line2d_6\">\r\n      <g>\r\n       <use style=\"stroke:#000000;stroke-width:0.8;\" x=\"279.427029\" xlink:href=\"#mcc8c44141d\" y=\"228.14\"/>\r\n      </g>\r\n     </g>\r\n     <g id=\"text_6\">\r\n      <!-- 0.4 -->\r\n      <defs>\r\n       <path d=\"M 32.328125 0 \r\nL 32.328125 17.140625 \r\nL 1.265625 17.140625 \r\nL 1.265625 25.203125 \r\nL 33.9375 71.578125 \r\nL 41.109375 71.578125 \r\nL 41.109375 25.203125 \r\nL 50.78125 25.203125 \r\nL 50.78125 17.140625 \r\nL 41.109375 17.140625 \r\nL 41.109375 0 \r\nz\r\nM 32.328125 25.203125 \r\nL 32.328125 57.46875 \r\nL 9.90625 25.203125 \r\nz\r\n\" id=\"ArialMT-52\"/>\r\n      </defs>\r\n      <g transform=\"translate(272.477029 242.297812)scale(0.1 -0.1)\">\r\n       <use xlink:href=\"#ArialMT-48\"/>\r\n       <use x=\"55.615234\" xlink:href=\"#ArialMT-46\"/>\r\n       <use x=\"83.398438\" xlink:href=\"#ArialMT-52\"/>\r\n      </g>\r\n     </g>\r\n    </g>\r\n    <g id=\"xtick_7\">\r\n     <g id=\"line2d_7\">\r\n      <g>\r\n       <use style=\"stroke:#000000;stroke-width:0.8;\" x=\"322.907549\" xlink:href=\"#mcc8c44141d\" y=\"228.14\"/>\r\n      </g>\r\n     </g>\r\n     <g id=\"text_7\">\r\n      <!-- 0.5 -->\r\n      <defs>\r\n       <path d=\"M 4.15625 18.75 \r\nL 13.375 19.53125 \r\nQ 14.40625 12.796875 18.140625 9.390625 \r\nQ 21.875 6 27.15625 6 \r\nQ 33.5 6 37.890625 10.78125 \r\nQ 42.28125 15.578125 42.28125 23.484375 \r\nQ 42.28125 31 38.0625 35.34375 \r\nQ 33.84375 39.703125 27 39.703125 \r\nQ 22.75 39.703125 19.328125 37.765625 \r\nQ 15.921875 35.84375 13.96875 32.765625 \r\nL 5.71875 33.84375 \r\nL 12.640625 70.609375 \r\nL 48.25 70.609375 \r\nL 48.25 62.203125 \r\nL 19.671875 62.203125 \r\nL 15.828125 42.96875 \r\nQ 22.265625 47.46875 29.34375 47.46875 \r\nQ 38.71875 47.46875 45.15625 40.96875 \r\nQ 51.609375 34.46875 51.609375 24.265625 \r\nQ 51.609375 14.546875 45.953125 7.46875 \r\nQ 39.0625 -1.21875 27.15625 -1.21875 \r\nQ 17.390625 -1.21875 11.203125 4.25 \r\nQ 5.03125 9.71875 4.15625 18.75 \r\nz\r\n\" id=\"ArialMT-53\"/>\r\n      </defs>\r\n      <g transform=\"translate(315.957549 242.297812)scale(0.1 -0.1)\">\r\n       <use xlink:href=\"#ArialMT-48\"/>\r\n       <use x=\"55.615234\" xlink:href=\"#ArialMT-46\"/>\r\n       <use x=\"83.398438\" xlink:href=\"#ArialMT-53\"/>\r\n      </g>\r\n     </g>\r\n    </g>\r\n    <g id=\"xtick_8\">\r\n     <g id=\"line2d_8\">\r\n      <g>\r\n       <use style=\"stroke:#000000;stroke-width:0.8;\" x=\"366.388068\" xlink:href=\"#mcc8c44141d\" y=\"228.14\"/>\r\n      </g>\r\n     </g>\r\n     <g id=\"text_8\">\r\n      <!-- 0.6 -->\r\n      <defs>\r\n       <path d=\"M 49.75 54.046875 \r\nL 41.015625 53.375 \r\nQ 39.84375 58.546875 37.703125 60.890625 \r\nQ 34.125 64.65625 28.90625 64.65625 \r\nQ 24.703125 64.65625 21.53125 62.3125 \r\nQ 17.390625 59.28125 14.984375 53.46875 \r\nQ 12.59375 47.65625 12.5 36.921875 \r\nQ 15.671875 41.75 20.265625 44.09375 \r\nQ 24.859375 46.4375 29.890625 46.4375 \r\nQ 38.671875 46.4375 44.84375 39.96875 \r\nQ 51.03125 33.5 51.03125 23.25 \r\nQ 51.03125 16.5 48.125 10.71875 \r\nQ 45.21875 4.9375 40.140625 1.859375 \r\nQ 35.0625 -1.21875 28.609375 -1.21875 \r\nQ 17.625 -1.21875 10.6875 6.859375 \r\nQ 3.765625 14.9375 3.765625 33.5 \r\nQ 3.765625 54.25 11.421875 63.671875 \r\nQ 18.109375 71.875 29.4375 71.875 \r\nQ 37.890625 71.875 43.28125 67.140625 \r\nQ 48.6875 62.40625 49.75 54.046875 \r\nz\r\nM 13.875 23.1875 \r\nQ 13.875 18.65625 15.796875 14.5 \r\nQ 17.71875 10.359375 21.1875 8.171875 \r\nQ 24.65625 6 28.46875 6 \r\nQ 34.03125 6 38.03125 10.484375 \r\nQ 42.046875 14.984375 42.046875 22.703125 \r\nQ 42.046875 30.125 38.078125 34.390625 \r\nQ 34.125 38.671875 28.125 38.671875 \r\nQ 22.171875 38.671875 18.015625 34.390625 \r\nQ 13.875 30.125 13.875 23.1875 \r\nz\r\n\" id=\"ArialMT-54\"/>\r\n      </defs>\r\n      <g transform=\"translate(359.438068 242.297812)scale(0.1 -0.1)\">\r\n       <use xlink:href=\"#ArialMT-48\"/>\r\n       <use x=\"55.615234\" xlink:href=\"#ArialMT-46\"/>\r\n       <use x=\"83.398438\" xlink:href=\"#ArialMT-54\"/>\r\n      </g>\r\n     </g>\r\n    </g>\r\n    <g id=\"text_9\">\r\n     <!-- external_parameter -->\r\n     <defs>\r\n      <path d=\"M 42.09375 16.703125 \r\nL 51.171875 15.578125 \r\nQ 49.03125 7.625 43.21875 3.21875 \r\nQ 37.40625 -1.171875 28.375 -1.171875 \r\nQ 17 -1.171875 10.328125 5.828125 \r\nQ 3.65625 12.84375 3.65625 25.484375 \r\nQ 3.65625 38.578125 10.390625 45.796875 \r\nQ 17.140625 53.03125 27.875 53.03125 \r\nQ 38.28125 53.03125 44.875 45.953125 \r\nQ 51.46875 38.875 51.46875 26.03125 \r\nQ 51.46875 25.25 51.421875 23.6875 \r\nL 12.75 23.6875 \r\nQ 13.234375 15.140625 17.578125 10.59375 \r\nQ 21.921875 6.0625 28.421875 6.0625 \r\nQ 33.25 6.0625 36.671875 8.59375 \r\nQ 40.09375 11.140625 42.09375 16.703125 \r\nz\r\nM 13.234375 30.90625 \r\nL 42.1875 30.90625 \r\nQ 41.609375 37.453125 38.875 40.71875 \r\nQ 34.671875 45.796875 27.984375 45.796875 \r\nQ 21.921875 45.796875 17.796875 41.75 \r\nQ 13.671875 37.703125 13.234375 30.90625 \r\nz\r\n\" id=\"ArialMT-101\"/>\r\n      <path d=\"M 0.734375 0 \r\nL 19.671875 26.953125 \r\nL 2.15625 51.859375 \r\nL 13.140625 51.859375 \r\nL 21.09375 39.703125 \r\nQ 23.34375 36.234375 24.703125 33.890625 \r\nQ 26.859375 37.109375 28.65625 39.59375 \r\nL 37.40625 51.859375 \r\nL 47.90625 51.859375 \r\nL 29.984375 27.4375 \r\nL 49.265625 0 \r\nL 38.484375 0 \r\nL 27.828125 16.109375 \r\nL 25 20.453125 \r\nL 11.375 0 \r\nz\r\n\" id=\"ArialMT-120\"/>\r\n      <path d=\"M 25.78125 7.859375 \r\nL 27.046875 0.09375 \r\nQ 23.34375 -0.6875 20.40625 -0.6875 \r\nQ 15.625 -0.6875 12.984375 0.828125 \r\nQ 10.359375 2.34375 9.28125 4.8125 \r\nQ 8.203125 7.28125 8.203125 15.1875 \r\nL 8.203125 45.015625 \r\nL 1.765625 45.015625 \r\nL 1.765625 51.859375 \r\nL 8.203125 51.859375 \r\nL 8.203125 64.703125 \r\nL 16.9375 69.96875 \r\nL 16.9375 51.859375 \r\nL 25.78125 51.859375 \r\nL 25.78125 45.015625 \r\nL 16.9375 45.015625 \r\nL 16.9375 14.703125 \r\nQ 16.9375 10.9375 17.40625 9.859375 \r\nQ 17.875 8.796875 18.921875 8.15625 \r\nQ 19.96875 7.515625 21.921875 7.515625 \r\nQ 23.390625 7.515625 25.78125 7.859375 \r\nz\r\n\" id=\"ArialMT-116\"/>\r\n      <path d=\"M 6.5 0 \r\nL 6.5 51.859375 \r\nL 14.40625 51.859375 \r\nL 14.40625 44 \r\nQ 17.4375 49.515625 20 51.265625 \r\nQ 22.5625 53.03125 25.640625 53.03125 \r\nQ 30.078125 53.03125 34.671875 50.203125 \r\nL 31.640625 42.046875 \r\nQ 28.421875 43.953125 25.203125 43.953125 \r\nQ 22.3125 43.953125 20.015625 42.21875 \r\nQ 17.71875 40.484375 16.75 37.40625 \r\nQ 15.28125 32.71875 15.28125 27.15625 \r\nL 15.28125 0 \r\nz\r\n\" id=\"ArialMT-114\"/>\r\n      <path d=\"M 6.59375 0 \r\nL 6.59375 51.859375 \r\nL 14.5 51.859375 \r\nL 14.5 44.484375 \r\nQ 20.21875 53.03125 31 53.03125 \r\nQ 35.6875 53.03125 39.625 51.34375 \r\nQ 43.5625 49.65625 45.515625 46.921875 \r\nQ 47.46875 44.1875 48.25 40.4375 \r\nQ 48.734375 37.984375 48.734375 31.890625 \r\nL 48.734375 0 \r\nL 39.9375 0 \r\nL 39.9375 31.546875 \r\nQ 39.9375 36.921875 38.90625 39.578125 \r\nQ 37.890625 42.234375 35.28125 43.8125 \r\nQ 32.671875 45.40625 29.15625 45.40625 \r\nQ 23.53125 45.40625 19.453125 41.84375 \r\nQ 15.375 38.28125 15.375 28.328125 \r\nL 15.375 0 \r\nz\r\n\" id=\"ArialMT-110\"/>\r\n      <path d=\"M 40.4375 6.390625 \r\nQ 35.546875 2.25 31.03125 0.53125 \r\nQ 26.515625 -1.171875 21.34375 -1.171875 \r\nQ 12.796875 -1.171875 8.203125 3 \r\nQ 3.609375 7.171875 3.609375 13.671875 \r\nQ 3.609375 17.484375 5.34375 20.625 \r\nQ 7.078125 23.78125 9.890625 25.6875 \r\nQ 12.703125 27.59375 16.21875 28.5625 \r\nQ 18.796875 29.25 24.03125 29.890625 \r\nQ 34.671875 31.15625 39.703125 32.90625 \r\nQ 39.75 34.71875 39.75 35.203125 \r\nQ 39.75 40.578125 37.25 42.78125 \r\nQ 33.890625 45.75 27.25 45.75 \r\nQ 21.046875 45.75 18.09375 43.578125 \r\nQ 15.140625 41.40625 13.71875 35.890625 \r\nL 5.125 37.0625 \r\nQ 6.296875 42.578125 8.984375 45.96875 \r\nQ 11.671875 49.359375 16.75 51.1875 \r\nQ 21.828125 53.03125 28.515625 53.03125 \r\nQ 35.15625 53.03125 39.296875 51.46875 \r\nQ 43.453125 49.90625 45.40625 47.53125 \r\nQ 47.359375 45.171875 48.140625 41.546875 \r\nQ 48.578125 39.3125 48.578125 33.453125 \r\nL 48.578125 21.734375 \r\nQ 48.578125 9.46875 49.140625 6.21875 \r\nQ 49.703125 2.984375 51.375 0 \r\nL 42.1875 0 \r\nQ 40.828125 2.734375 40.4375 6.390625 \r\nz\r\nM 39.703125 26.03125 \r\nQ 34.90625 24.078125 25.34375 22.703125 \r\nQ 19.921875 21.921875 17.671875 20.9375 \r\nQ 15.4375 19.96875 14.203125 18.09375 \r\nQ 12.984375 16.21875 12.984375 13.921875 \r\nQ 12.984375 10.40625 15.640625 8.0625 \r\nQ 18.3125 5.71875 23.4375 5.71875 \r\nQ 28.515625 5.71875 32.46875 7.9375 \r\nQ 36.421875 10.15625 38.28125 14.015625 \r\nQ 39.703125 17 39.703125 22.796875 \r\nz\r\n\" id=\"ArialMT-97\"/>\r\n      <path d=\"M 6.390625 0 \r\nL 6.390625 71.578125 \r\nL 15.1875 71.578125 \r\nL 15.1875 0 \r\nz\r\n\" id=\"ArialMT-108\"/>\r\n      <path d=\"M -1.515625 -19.875 \r\nL -1.515625 -13.53125 \r\nL 56.734375 -13.53125 \r\nL 56.734375 -19.875 \r\nz\r\n\" id=\"ArialMT-95\"/>\r\n      <path d=\"M 6.59375 -19.875 \r\nL 6.59375 51.859375 \r\nL 14.59375 51.859375 \r\nL 14.59375 45.125 \r\nQ 17.4375 49.078125 21 51.046875 \r\nQ 24.5625 53.03125 29.640625 53.03125 \r\nQ 36.28125 53.03125 41.359375 49.609375 \r\nQ 46.4375 46.1875 49.015625 39.953125 \r\nQ 51.609375 33.734375 51.609375 26.3125 \r\nQ 51.609375 18.359375 48.75 11.984375 \r\nQ 45.90625 5.609375 40.453125 2.21875 \r\nQ 35.015625 -1.171875 29 -1.171875 \r\nQ 24.609375 -1.171875 21.109375 0.6875 \r\nQ 17.625 2.546875 15.375 5.375 \r\nL 15.375 -19.875 \r\nz\r\nM 14.546875 25.640625 \r\nQ 14.546875 15.625 18.59375 10.84375 \r\nQ 22.65625 6.0625 28.421875 6.0625 \r\nQ 34.28125 6.0625 38.453125 11.015625 \r\nQ 42.625 15.96875 42.625 26.375 \r\nQ 42.625 36.28125 38.546875 41.203125 \r\nQ 34.46875 46.140625 28.8125 46.140625 \r\nQ 23.1875 46.140625 18.859375 40.890625 \r\nQ 14.546875 35.640625 14.546875 25.640625 \r\nz\r\n\" id=\"ArialMT-112\"/>\r\n      <path d=\"M 6.59375 0 \r\nL 6.59375 51.859375 \r\nL 14.453125 51.859375 \r\nL 14.453125 44.578125 \r\nQ 16.890625 48.390625 20.9375 50.703125 \r\nQ 25 53.03125 30.171875 53.03125 \r\nQ 35.9375 53.03125 39.625 50.640625 \r\nQ 43.3125 48.25 44.828125 43.953125 \r\nQ 50.984375 53.03125 60.84375 53.03125 \r\nQ 68.5625 53.03125 72.703125 48.75 \r\nQ 76.859375 44.484375 76.859375 35.59375 \r\nL 76.859375 0 \r\nL 68.109375 0 \r\nL 68.109375 32.671875 \r\nQ 68.109375 37.9375 67.25 40.25 \r\nQ 66.40625 42.578125 64.15625 43.984375 \r\nQ 61.921875 45.40625 58.890625 45.40625 \r\nQ 53.421875 45.40625 49.796875 41.765625 \r\nQ 46.1875 38.140625 46.1875 30.125 \r\nL 46.1875 0 \r\nL 37.40625 0 \r\nL 37.40625 33.6875 \r\nQ 37.40625 39.546875 35.25 42.46875 \r\nQ 33.109375 45.40625 28.21875 45.40625 \r\nQ 24.515625 45.40625 21.359375 43.453125 \r\nQ 18.21875 41.5 16.796875 37.734375 \r\nQ 15.375 33.984375 15.375 26.90625 \r\nL 15.375 0 \r\nz\r\n\" id=\"ArialMT-109\"/>\r\n     </defs>\r\n     <g transform=\"translate(170.853125 255.443125)scale(0.1 -0.1)\">\r\n      <use xlink:href=\"#ArialMT-101\"/>\r\n      <use x=\"55.615234\" xlink:href=\"#ArialMT-120\"/>\r\n      <use x=\"105.615234\" xlink:href=\"#ArialMT-116\"/>\r\n      <use x=\"133.398438\" xlink:href=\"#ArialMT-101\"/>\r\n      <use x=\"189.013672\" xlink:href=\"#ArialMT-114\"/>\r\n      <use x=\"222.314453\" xlink:href=\"#ArialMT-110\"/>\r\n      <use x=\"277.929688\" xlink:href=\"#ArialMT-97\"/>\r\n      <use x=\"333.544922\" xlink:href=\"#ArialMT-108\"/>\r\n      <use x=\"355.761719\" xlink:href=\"#ArialMT-95\"/>\r\n      <use x=\"411.376953\" xlink:href=\"#ArialMT-112\"/>\r\n      <use x=\"466.992188\" xlink:href=\"#ArialMT-97\"/>\r\n      <use x=\"522.607422\" xlink:href=\"#ArialMT-114\"/>\r\n      <use x=\"555.908203\" xlink:href=\"#ArialMT-97\"/>\r\n      <use x=\"611.523438\" xlink:href=\"#ArialMT-109\"/>\r\n      <use x=\"694.824219\" xlink:href=\"#ArialMT-101\"/>\r\n      <use x=\"750.439453\" xlink:href=\"#ArialMT-116\"/>\r\n      <use x=\"778.222656\" xlink:href=\"#ArialMT-101\"/>\r\n      <use x=\"833.837891\" xlink:href=\"#ArialMT-114\"/>\r\n     </g>\r\n    </g>\r\n   </g>\r\n   <g id=\"matplotlib.axis_2\">\r\n    <g id=\"ytick_1\">\r\n     <g id=\"line2d_9\">\r\n      <defs>\r\n       <path d=\"M 0 0 \r\nL -3.5 0 \r\n\" id=\"m04fabfad07\" style=\"stroke:#000000;stroke-width:0.8;\"/>\r\n      </defs>\r\n      <g>\r\n       <use style=\"stroke:#000000;stroke-width:0.8;\" x=\"46.80625\" xlink:href=\"#m04fabfad07\" y=\"218.256364\"/>\r\n      </g>\r\n     </g>\r\n     <g id=\"text_10\">\r\n      <!-- 0.0 -->\r\n      <g transform=\"translate(25.90625 221.83527)scale(0.1 -0.1)\">\r\n       <use xlink:href=\"#ArialMT-48\"/>\r\n       <use x=\"55.615234\" xlink:href=\"#ArialMT-46\"/>\r\n       <use x=\"83.398438\" xlink:href=\"#ArialMT-48\"/>\r\n      </g>\r\n     </g>\r\n    </g>\r\n    <g id=\"ytick_2\">\r\n     <g id=\"line2d_10\">\r\n      <g>\r\n       <use style=\"stroke:#000000;stroke-width:0.8;\" x=\"46.80625\" xlink:href=\"#m04fabfad07\" y=\"189.205239\"/>\r\n      </g>\r\n     </g>\r\n     <g id=\"text_11\">\r\n      <!-- 2.5 -->\r\n      <g transform=\"translate(25.90625 192.784145)scale(0.1 -0.1)\">\r\n       <use xlink:href=\"#ArialMT-50\"/>\r\n       <use x=\"55.615234\" xlink:href=\"#ArialMT-46\"/>\r\n       <use x=\"83.398438\" xlink:href=\"#ArialMT-53\"/>\r\n      </g>\r\n     </g>\r\n    </g>\r\n    <g id=\"ytick_3\">\r\n     <g id=\"line2d_11\">\r\n      <g>\r\n       <use style=\"stroke:#000000;stroke-width:0.8;\" x=\"46.80625\" xlink:href=\"#m04fabfad07\" y=\"160.154114\"/>\r\n      </g>\r\n     </g>\r\n     <g id=\"text_12\">\r\n      <!-- 5.0 -->\r\n      <g transform=\"translate(25.90625 163.733021)scale(0.1 -0.1)\">\r\n       <use xlink:href=\"#ArialMT-53\"/>\r\n       <use x=\"55.615234\" xlink:href=\"#ArialMT-46\"/>\r\n       <use x=\"83.398438\" xlink:href=\"#ArialMT-48\"/>\r\n      </g>\r\n     </g>\r\n    </g>\r\n    <g id=\"ytick_4\">\r\n     <g id=\"line2d_12\">\r\n      <g>\r\n       <use style=\"stroke:#000000;stroke-width:0.8;\" x=\"46.80625\" xlink:href=\"#m04fabfad07\" y=\"131.10299\"/>\r\n      </g>\r\n     </g>\r\n     <g id=\"text_13\">\r\n      <!-- 7.5 -->\r\n      <defs>\r\n       <path d=\"M 4.734375 62.203125 \r\nL 4.734375 70.65625 \r\nL 51.078125 70.65625 \r\nL 51.078125 63.8125 \r\nQ 44.234375 56.546875 37.515625 44.484375 \r\nQ 30.8125 32.421875 27.15625 19.671875 \r\nQ 24.515625 10.6875 23.78125 0 \r\nL 14.75 0 \r\nQ 14.890625 8.453125 18.0625 20.40625 \r\nQ 21.234375 32.375 27.171875 43.484375 \r\nQ 33.109375 54.59375 39.796875 62.203125 \r\nz\r\n\" id=\"ArialMT-55\"/>\r\n      </defs>\r\n      <g transform=\"translate(25.90625 134.681896)scale(0.1 -0.1)\">\r\n       <use xlink:href=\"#ArialMT-55\"/>\r\n       <use x=\"55.615234\" xlink:href=\"#ArialMT-46\"/>\r\n       <use x=\"83.398438\" xlink:href=\"#ArialMT-53\"/>\r\n      </g>\r\n     </g>\r\n    </g>\r\n    <g id=\"ytick_5\">\r\n     <g id=\"line2d_13\">\r\n      <g>\r\n       <use style=\"stroke:#000000;stroke-width:0.8;\" x=\"46.80625\" xlink:href=\"#m04fabfad07\" y=\"102.051865\"/>\r\n      </g>\r\n     </g>\r\n     <g id=\"text_14\">\r\n      <!-- 10.0 -->\r\n      <g transform=\"translate(20.345313 105.630771)scale(0.1 -0.1)\">\r\n       <use xlink:href=\"#ArialMT-49\"/>\r\n       <use x=\"55.615234\" xlink:href=\"#ArialMT-48\"/>\r\n       <use x=\"111.230469\" xlink:href=\"#ArialMT-46\"/>\r\n       <use x=\"139.013672\" xlink:href=\"#ArialMT-48\"/>\r\n      </g>\r\n     </g>\r\n    </g>\r\n    <g id=\"ytick_6\">\r\n     <g id=\"line2d_14\">\r\n      <g>\r\n       <use style=\"stroke:#000000;stroke-width:0.8;\" x=\"46.80625\" xlink:href=\"#m04fabfad07\" y=\"73.00074\"/>\r\n      </g>\r\n     </g>\r\n     <g id=\"text_15\">\r\n      <!-- 12.5 -->\r\n      <g transform=\"translate(20.345313 76.579647)scale(0.1 -0.1)\">\r\n       <use xlink:href=\"#ArialMT-49\"/>\r\n       <use x=\"55.615234\" xlink:href=\"#ArialMT-50\"/>\r\n       <use x=\"111.230469\" xlink:href=\"#ArialMT-46\"/>\r\n       <use x=\"139.013672\" xlink:href=\"#ArialMT-53\"/>\r\n      </g>\r\n     </g>\r\n    </g>\r\n    <g id=\"ytick_7\">\r\n     <g id=\"line2d_15\">\r\n      <g>\r\n       <use style=\"stroke:#000000;stroke-width:0.8;\" x=\"46.80625\" xlink:href=\"#m04fabfad07\" y=\"43.949616\"/>\r\n      </g>\r\n     </g>\r\n     <g id=\"text_16\">\r\n      <!-- 15.0 -->\r\n      <g transform=\"translate(20.345313 47.528522)scale(0.1 -0.1)\">\r\n       <use xlink:href=\"#ArialMT-49\"/>\r\n       <use x=\"55.615234\" xlink:href=\"#ArialMT-53\"/>\r\n       <use x=\"111.230469\" xlink:href=\"#ArialMT-46\"/>\r\n       <use x=\"139.013672\" xlink:href=\"#ArialMT-48\"/>\r\n      </g>\r\n     </g>\r\n    </g>\r\n    <g id=\"ytick_8\">\r\n     <g id=\"line2d_16\">\r\n      <g>\r\n       <use style=\"stroke:#000000;stroke-width:0.8;\" x=\"46.80625\" xlink:href=\"#m04fabfad07\" y=\"14.898491\"/>\r\n      </g>\r\n     </g>\r\n     <g id=\"text_17\">\r\n      <!-- 17.5 -->\r\n      <g transform=\"translate(20.345313 18.477397)scale(0.1 -0.1)\">\r\n       <use xlink:href=\"#ArialMT-49\"/>\r\n       <use x=\"55.615234\" xlink:href=\"#ArialMT-55\"/>\r\n       <use x=\"111.230469\" xlink:href=\"#ArialMT-46\"/>\r\n       <use x=\"139.013672\" xlink:href=\"#ArialMT-53\"/>\r\n      </g>\r\n     </g>\r\n    </g>\r\n    <g id=\"text_18\">\r\n     <!-- energy -->\r\n     <defs>\r\n      <path d=\"M 4.984375 -4.296875 \r\nL 13.53125 -5.5625 \r\nQ 14.0625 -9.515625 16.5 -11.328125 \r\nQ 19.78125 -13.765625 25.4375 -13.765625 \r\nQ 31.546875 -13.765625 34.859375 -11.328125 \r\nQ 38.1875 -8.890625 39.359375 -4.5 \r\nQ 40.046875 -1.8125 39.984375 6.78125 \r\nQ 34.234375 0 25.640625 0 \r\nQ 14.9375 0 9.078125 7.71875 \r\nQ 3.21875 15.4375 3.21875 26.21875 \r\nQ 3.21875 33.640625 5.90625 39.90625 \r\nQ 8.59375 46.1875 13.6875 49.609375 \r\nQ 18.796875 53.03125 25.6875 53.03125 \r\nQ 34.859375 53.03125 40.828125 45.609375 \r\nL 40.828125 51.859375 \r\nL 48.921875 51.859375 \r\nL 48.921875 7.03125 \r\nQ 48.921875 -5.078125 46.453125 -10.125 \r\nQ 44 -15.1875 38.640625 -18.109375 \r\nQ 33.296875 -21.046875 25.484375 -21.046875 \r\nQ 16.21875 -21.046875 10.5 -16.875 \r\nQ 4.78125 -12.703125 4.984375 -4.296875 \r\nz\r\nM 12.25 26.859375 \r\nQ 12.25 16.65625 16.296875 11.96875 \r\nQ 20.359375 7.28125 26.46875 7.28125 \r\nQ 32.515625 7.28125 36.609375 11.9375 \r\nQ 40.71875 16.609375 40.71875 26.5625 \r\nQ 40.71875 36.078125 36.5 40.90625 \r\nQ 32.28125 45.75 26.3125 45.75 \r\nQ 20.453125 45.75 16.34375 40.984375 \r\nQ 12.25 36.234375 12.25 26.859375 \r\nz\r\n\" id=\"ArialMT-103\"/>\r\n      <path d=\"M 6.203125 -19.96875 \r\nL 5.21875 -11.71875 \r\nQ 8.109375 -12.5 10.25 -12.5 \r\nQ 13.1875 -12.5 14.9375 -11.515625 \r\nQ 16.703125 -10.546875 17.828125 -8.796875 \r\nQ 18.65625 -7.46875 20.515625 -2.25 \r\nQ 20.75 -1.515625 21.296875 -0.09375 \r\nL 1.609375 51.859375 \r\nL 11.078125 51.859375 \r\nL 21.875 21.828125 \r\nQ 23.96875 16.109375 25.640625 9.8125 \r\nQ 27.15625 15.875 29.25 21.625 \r\nL 40.328125 51.859375 \r\nL 49.125 51.859375 \r\nL 29.390625 -0.875 \r\nQ 26.21875 -9.421875 24.46875 -12.640625 \r\nQ 22.125 -17 19.09375 -19.015625 \r\nQ 16.0625 -21.046875 11.859375 -21.046875 \r\nQ 9.328125 -21.046875 6.203125 -19.96875 \r\nz\r\n\" id=\"ArialMT-121\"/>\r\n     </defs>\r\n     <g transform=\"translate(14.240625 134.706719)rotate(-90)scale(0.1 -0.1)\">\r\n      <use xlink:href=\"#ArialMT-101\"/>\r\n      <use x=\"55.615234\" xlink:href=\"#ArialMT-110\"/>\r\n      <use x=\"111.230469\" xlink:href=\"#ArialMT-101\"/>\r\n      <use x=\"166.845703\" xlink:href=\"#ArialMT-114\"/>\r\n      <use x=\"200.146484\" xlink:href=\"#ArialMT-103\"/>\r\n      <use x=\"255.761719\" xlink:href=\"#ArialMT-121\"/>\r\n     </g>\r\n    </g>\r\n   </g>\r\n   <g id=\"line2d_17\">\r\n    <path clip-path=\"url(#pcac8351ae5)\" d=\"M 62.024432 218.256364 \r\nL 65.098812 218.256364 \r\nL 68.173192 218.256364 \r\nL 71.247572 218.256364 \r\nL 74.321952 218.256364 \r\nL 77.396333 218.256364 \r\nL 80.470713 218.256364 \r\nL 83.545093 218.256364 \r\nL 86.619473 218.256364 \r\nL 89.693853 218.256364 \r\nL 92.768233 218.256364 \r\nL 95.842614 218.256364 \r\nL 98.916994 218.256364 \r\nL 101.991374 218.256364 \r\nL 105.065754 218.256364 \r\nL 108.140134 218.256364 \r\nL 111.214514 218.256364 \r\nL 114.288895 218.256364 \r\nL 117.363275 218.256364 \r\nL 120.437655 218.256364 \r\nL 123.512035 218.256364 \r\nL 126.586415 218.256364 \r\nL 129.660795 218.256364 \r\nL 132.735176 218.256364 \r\nL 135.809556 218.256364 \r\nL 138.883936 218.256364 \r\nL 141.958316 218.256364 \r\nL 145.032696 218.256364 \r\nL 148.107076 218.256364 \r\nL 151.181457 218.256364 \r\nL 154.255837 218.256364 \r\nL 157.330217 218.256364 \r\nL 160.404597 218.256364 \r\nL 163.478977 218.256364 \r\nL 166.553357 218.256364 \r\nL 169.627738 218.256364 \r\nL 172.702118 218.256364 \r\nL 175.776498 218.256364 \r\nL 178.850878 218.256364 \r\nL 181.925258 218.256364 \r\nL 184.999638 218.256364 \r\nL 188.074019 218.256364 \r\nL 191.148399 218.256364 \r\nL 194.222779 218.256364 \r\nL 197.297159 218.256364 \r\nL 200.371539 218.256364 \r\nL 203.445919 218.256364 \r\nL 206.5203 218.256364 \r\nL 209.59468 218.256364 \r\nL 212.66906 218.256364 \r\nL 215.74344 218.256364 \r\nL 218.81782 218.256364 \r\nL 221.8922 218.256364 \r\nL 224.966581 218.256364 \r\nL 228.040961 218.256364 \r\nL 231.115341 218.256364 \r\nL 234.189721 218.256364 \r\nL 237.264101 218.256364 \r\nL 240.338481 218.256364 \r\nL 243.412862 218.256364 \r\nL 246.487242 218.256364 \r\nL 249.561622 218.256364 \r\nL 252.636002 218.256364 \r\nL 255.710382 218.256364 \r\nL 258.784762 218.256364 \r\nL 261.859143 218.256364 \r\nL 264.933523 218.256364 \r\nL 268.007903 218.256364 \r\nL 271.082283 218.256364 \r\nL 274.156663 218.256364 \r\nL 277.231043 218.256364 \r\nL 280.305424 218.256364 \r\nL 283.379804 218.256364 \r\nL 286.454184 218.256364 \r\nL 289.528564 218.256364 \r\nL 292.602944 218.256364 \r\nL 295.677324 218.256364 \r\nL 298.751705 218.256364 \r\nL 301.826085 218.256364 \r\nL 304.900465 218.256364 \r\nL 307.974845 218.256364 \r\nL 311.049225 218.256364 \r\nL 314.123605 218.256364 \r\nL 317.197986 218.256364 \r\nL 320.272366 218.256364 \r\nL 323.346746 218.256364 \r\nL 326.421126 218.256364 \r\nL 329.495506 218.256364 \r\nL 332.569886 218.256364 \r\nL 335.644267 218.256364 \r\nL 338.718647 218.256364 \r\nL 341.793027 218.256364 \r\nL 344.867407 218.256364 \r\nL 347.941787 218.256364 \r\nL 351.016167 218.256364 \r\nL 354.090548 218.256364 \r\nL 357.164928 218.256364 \r\nL 360.239308 218.256364 \r\nL 363.313688 218.256364 \r\nL 366.388068 218.256364 \r\n\" style=\"fill:none;stroke:#1f77b4;stroke-linecap:square;stroke-width:1.5;\"/>\r\n   </g>\r\n   <g id=\"line2d_18\">\r\n    <path clip-path=\"url(#pcac8351ae5)\" d=\"M 62.024432 163.159771 \r\nL 65.098812 163.159765 \r\nL 68.173192 163.15976 \r\nL 71.247572 163.159756 \r\nL 74.321952 163.159751 \r\nL 77.396333 163.159748 \r\nL 80.470713 163.159744 \r\nL 83.545093 163.159742 \r\nL 86.619473 163.159739 \r\nL 89.693853 163.159737 \r\nL 92.768233 163.159735 \r\nL 95.842614 163.159734 \r\nL 98.916994 163.159733 \r\nL 101.991374 163.159732 \r\nL 105.065754 163.159732 \r\nL 108.140134 163.159732 \r\nL 111.214514 163.159733 \r\nL 114.288895 163.159734 \r\nL 117.363275 163.159735 \r\nL 120.437655 163.159736 \r\nL 123.512035 163.159738 \r\nL 126.586415 163.159741 \r\nL 129.660795 163.159744 \r\nL 132.735176 163.159747 \r\nL 135.809556 163.15975 \r\nL 138.883936 163.159754 \r\nL 141.958316 163.159759 \r\nL 145.032696 163.159764 \r\nL 148.107076 163.159769 \r\nL 151.181457 163.159775 \r\nL 154.255837 163.159782 \r\nL 157.330217 163.159789 \r\nL 160.404597 163.159797 \r\nL 163.478977 163.159805 \r\nL 166.553357 163.159814 \r\nL 169.627738 163.159824 \r\nL 172.702118 163.159835 \r\nL 175.776498 163.159846 \r\nL 178.850878 163.159859 \r\nL 181.925258 163.159873 \r\nL 184.999638 163.159887 \r\nL 188.074019 163.159903 \r\nL 191.148399 163.159921 \r\nL 194.222779 163.15994 \r\nL 197.297159 163.159961 \r\nL 200.371539 163.159984 \r\nL 203.445919 163.160009 \r\nL 206.5203 163.160037 \r\nL 209.59468 163.160068 \r\nL 212.66906 163.160102 \r\nL 215.74344 163.16014 \r\nL 218.81782 163.160183 \r\nL 221.8922 163.160232 \r\nL 224.966581 163.160288 \r\nL 228.040961 163.160353 \r\nL 231.115341 163.160427 \r\nL 234.189721 163.160516 \r\nL 237.264101 163.160622 \r\nL 240.338481 163.16075 \r\nL 243.412862 163.160911 \r\nL 246.487242 163.161117 \r\nL 249.561622 163.16139 \r\nL 252.636002 163.161772 \r\nL 255.710382 163.162342 \r\nL 258.784762 163.163288 \r\nL 261.859143 163.165169 \r\nL 264.933523 163.170732 \r\nL 268.007903 163.286749 \r\nL 271.082283 164.705724 \r\nL 274.156663 166.304935 \r\nL 277.231043 167.974181 \r\nL 280.305424 169.715653 \r\nL 283.379804 171.534945 \r\nL 286.454184 173.43946 \r\nL 289.528564 175.438537 \r\nL 292.602944 177.543966 \r\nL 295.677324 179.77085 \r\nL 298.751705 182.138956 \r\nL 301.826085 184.674958 \r\nL 304.900465 187.416343 \r\nL 307.974845 190.418929 \r\nL 311.049225 193.773323 \r\nL 314.123605 197.648388 \r\nL 317.197986 202.434726 \r\nL 320.272366 209.104318 \r\nL 323.346746 214.330019 \r\nL 326.421126 206.935343 \r\nL 329.495506 200.932259 \r\nL 332.569886 196.472292 \r\nL 335.644267 192.77143 \r\nL 338.718647 189.530032 \r\nL 341.793027 186.609336 \r\nL 344.867407 183.931327 \r\nL 347.941787 181.446549 \r\nL 351.016167 179.121157 \r\nL 354.090548 176.930755 \r\nL 357.164928 174.857088 \r\nL 360.239308 172.886112 \r\nL 363.313688 171.006808 \r\nL 366.388068 169.210429 \r\n\" style=\"fill:none;stroke:#ff7f0e;stroke-linecap:square;stroke-width:1.5;\"/>\r\n   </g>\r\n   <g id=\"line2d_19\">\r\n    <path clip-path=\"url(#pcac8351ae5)\" d=\"M 62.024432 152.282938 \r\nL 65.098812 152.282937 \r\nL 68.173192 152.282936 \r\nL 71.247572 152.282936 \r\nL 74.321952 152.282935 \r\nL 77.396333 152.282935 \r\nL 80.470713 152.282934 \r\nL 83.545093 152.282934 \r\nL 86.619473 152.282934 \r\nL 89.693853 152.282933 \r\nL 92.768233 152.282933 \r\nL 95.842614 152.282933 \r\nL 98.916994 152.282933 \r\nL 101.991374 152.282933 \r\nL 105.065754 152.282933 \r\nL 108.140134 152.282933 \r\nL 111.214514 152.282933 \r\nL 114.288895 152.282933 \r\nL 117.363275 152.282933 \r\nL 120.437655 152.282933 \r\nL 123.512035 152.282933 \r\nL 126.586415 152.282934 \r\nL 129.660795 152.282934 \r\nL 132.735176 152.282935 \r\nL 135.809556 152.282935 \r\nL 138.883936 152.282936 \r\nL 141.958316 152.282936 \r\nL 145.032696 152.282937 \r\nL 148.107076 152.282938 \r\nL 151.181457 152.282938 \r\nL 154.255837 152.282939 \r\nL 157.330217 152.28294 \r\nL 160.404597 152.282941 \r\nL 163.478977 152.282942 \r\nL 166.553357 152.282943 \r\nL 169.627738 152.282944 \r\nL 172.702118 152.282945 \r\nL 175.776498 152.282947 \r\nL 178.850878 152.282948 \r\nL 181.925258 152.28295 \r\nL 184.999638 152.282951 \r\nL 188.074019 152.282953 \r\nL 191.148399 152.282955 \r\nL 194.222779 152.282957 \r\nL 197.297159 152.282958 \r\nL 200.371539 152.282961 \r\nL 203.445919 152.282963 \r\nL 206.5203 152.282965 \r\nL 209.59468 152.282968 \r\nL 212.66906 152.28297 \r\nL 215.74344 152.282973 \r\nL 218.81782 152.282976 \r\nL 221.8922 152.282979 \r\nL 224.966581 152.282983 \r\nL 228.040961 152.282986 \r\nL 231.115341 152.28299 \r\nL 234.189721 152.282994 \r\nL 237.264101 152.282999 \r\nL 240.338481 152.283005 \r\nL 243.412862 152.909627 \r\nL 246.487242 153.962817 \r\nL 249.561622 155.09491 \r\nL 252.636002 156.293685 \r\nL 255.710382 157.552257 \r\nL 258.784762 158.86702 \r\nL 261.859143 160.236163 \r\nL 264.933523 161.657167 \r\nL 268.007903 163.024599 \r\nL 271.082283 163.148217 \r\nL 274.156663 163.153869 \r\nL 277.231043 163.155769 \r\nL 280.305424 163.156725 \r\nL 283.379804 163.157304 \r\nL 286.454184 163.157694 \r\nL 289.528564 163.157977 \r\nL 292.602944 163.158195 \r\nL 295.677324 163.158369 \r\nL 298.751705 163.158515 \r\nL 301.826085 163.158641 \r\nL 304.900465 163.158754 \r\nL 307.974845 165.376364 \r\nL 311.049225 172.142494 \r\nL 314.123605 179.939549 \r\nL 317.197986 189.197592 \r\nL 320.272366 198.790539 \r\nL 323.346746 203.248998 \r\nL 326.421126 196.233735 \r\nL 329.495506 186.403825 \r\nL 332.569886 177.578511 \r\nL 335.644267 170.122302 \r\nL 338.718647 163.582536 \r\nL 341.793027 163.158723 \r\nL 344.867407 163.158606 \r\nL 347.941787 163.158475 \r\nL 351.016167 163.158323 \r\nL 354.090548 163.158138 \r\nL 357.164928 163.157904 \r\nL 360.239308 163.157596 \r\nL 363.313688 163.157163 \r\nL 366.388068 163.156504 \r\n\" style=\"fill:none;stroke:#2ca02c;stroke-linecap:square;stroke-width:1.5;\"/>\r\n   </g>\r\n   <g id=\"line2d_20\">\r\n    <path clip-path=\"url(#pcac8351ae5)\" d=\"M 62.024432 148.675003 \r\nL 65.098812 148.672072 \r\nL 68.173192 148.669442 \r\nL 71.247572 148.667091 \r\nL 74.321952 148.664997 \r\nL 77.396333 148.663145 \r\nL 80.470713 148.66152 \r\nL 83.545093 148.660109 \r\nL 86.619473 148.658903 \r\nL 89.693853 148.657893 \r\nL 92.768233 148.657071 \r\nL 95.842614 148.656432 \r\nL 98.916994 148.655971 \r\nL 101.991374 148.655687 \r\nL 105.065754 148.655575 \r\nL 108.140134 148.655637 \r\nL 111.214514 148.655872 \r\nL 114.288895 148.656282 \r\nL 117.363275 148.65687 \r\nL 120.437655 148.657639 \r\nL 123.512035 148.658595 \r\nL 126.586415 148.659744 \r\nL 129.660795 148.661095 \r\nL 132.735176 148.662658 \r\nL 135.809556 148.664444 \r\nL 138.883936 148.666467 \r\nL 141.958316 148.668743 \r\nL 145.032696 148.671291 \r\nL 148.107076 148.674133 \r\nL 151.181457 148.677295 \r\nL 154.255837 148.680807 \r\nL 157.330217 148.684703 \r\nL 160.404597 148.689026 \r\nL 163.478977 148.693824 \r\nL 166.553357 148.699155 \r\nL 169.627738 148.705087 \r\nL 172.702118 148.711703 \r\nL 175.776498 148.719103 \r\nL 178.850878 148.727409 \r\nL 181.925258 148.73677 \r\nL 184.999638 148.747371 \r\nL 188.074019 148.759445 \r\nL 191.148399 148.77329 \r\nL 194.222779 148.789286 \r\nL 197.297159 148.807935 \r\nL 200.371539 148.829905 \r\nL 203.445919 148.856103 \r\nL 206.5203 148.887796 \r\nL 209.59468 148.926786 \r\nL 212.66906 148.975721 \r\nL 215.74344 149.038605 \r\nL 218.81782 149.121689 \r\nL 221.8922 149.235011 \r\nL 224.966581 149.394935 \r\nL 228.040961 149.627589 \r\nL 231.115341 149.970501 \r\nL 234.189721 150.464269 \r\nL 237.264101 151.130066 \r\nL 240.338481 151.955578 \r\nL 243.412862 152.283007 \r\nL 246.487242 152.283013 \r\nL 249.561622 152.283019 \r\nL 252.636002 152.283026 \r\nL 255.710382 152.283033 \r\nL 258.784762 152.28304 \r\nL 261.859143 152.283048 \r\nL 264.933523 152.283057 \r\nL 268.007903 152.283067 \r\nL 271.082283 152.283078 \r\nL 274.156663 152.283091 \r\nL 277.231043 152.283105 \r\nL 280.305424 152.28312 \r\nL 283.379804 152.283138 \r\nL 286.454184 152.283159 \r\nL 289.528564 152.283184 \r\nL 292.602944 152.283214 \r\nL 295.677324 152.28325 \r\nL 298.751705 152.283295 \r\nL 301.826085 153.786221 \r\nL 304.900465 159.316842 \r\nL 307.974845 163.158861 \r\nL 311.049225 163.158967 \r\nL 314.123605 163.159082 \r\nL 317.197986 163.159227 \r\nL 320.272366 163.15947 \r\nL 323.346746 163.159758 \r\nL 326.421126 163.159381 \r\nL 329.495506 163.15918 \r\nL 332.569886 163.159048 \r\nL 335.644267 163.158936 \r\nL 338.718647 163.158831 \r\nL 341.793027 157.68841 \r\nL 344.867407 152.286735 \r\nL 347.941787 152.283281 \r\nL 351.016167 152.283239 \r\nL 354.090548 152.283205 \r\nL 357.164928 152.283177 \r\nL 360.239308 152.283153 \r\nL 363.313688 152.283133 \r\nL 366.388068 152.283116 \r\n\" style=\"fill:none;stroke:#d62728;stroke-linecap:square;stroke-width:1.5;\"/>\r\n   </g>\r\n   <g id=\"line2d_21\">\r\n    <path clip-path=\"url(#pcac8351ae5)\" d=\"M 62.024432 129.828804 \r\nL 65.098812 129.516005 \r\nL 68.173192 129.22639 \r\nL 71.247572 128.9599 \r\nL 74.321952 128.716482 \r\nL 77.396333 128.496085 \r\nL 80.470713 128.298665 \r\nL 83.545093 128.124183 \r\nL 86.619473 127.972602 \r\nL 89.693853 127.843893 \r\nL 92.768233 127.738029 \r\nL 95.842614 127.65499 \r\nL 98.916994 127.594759 \r\nL 101.991374 127.557323 \r\nL 105.065754 127.542675 \r\nL 108.140134 127.550813 \r\nL 111.214514 127.581737 \r\nL 114.288895 127.635455 \r\nL 117.363275 127.711976 \r\nL 120.437655 127.811316 \r\nL 123.512035 127.933495 \r\nL 126.586415 128.078538 \r\nL 129.660795 128.246474 \r\nL 132.735176 128.437336 \r\nL 135.809556 128.651164 \r\nL 138.883936 128.888 \r\nL 141.958316 129.147893 \r\nL 145.032696 129.430895 \r\nL 148.107076 129.737063 \r\nL 151.181457 130.06646 \r\nL 154.255837 130.419151 \r\nL 157.330217 130.795206 \r\nL 160.404597 131.194699 \r\nL 163.478977 131.617706 \r\nL 166.553357 132.064305 \r\nL 169.627738 132.534575 \r\nL 172.702118 133.028593 \r\nL 175.776498 133.546432 \r\nL 178.850878 134.08816 \r\nL 181.925258 134.65383 \r\nL 184.999638 135.243476 \r\nL 188.074019 135.857104 \r\nL 191.148399 136.494674 \r\nL 194.222779 137.156084 \r\nL 197.297159 137.841136 \r\nL 200.371539 138.549489 \r\nL 203.445919 139.280588 \r\nL 206.5203 140.033556 \r\nL 209.59468 140.807006 \r\nL 212.66906 141.598746 \r\nL 215.74344 142.405267 \r\nL 218.81782 143.220858 \r\nL 221.8922 144.03607 \r\nL 224.966581 144.835181 \r\nL 228.040961 145.592768 \r\nL 231.115341 146.272076 \r\nL 234.189721 146.833356 \r\nL 237.264101 147.256367 \r\nL 240.338481 147.554455 \r\nL 243.412862 147.759939 \r\nL 246.487242 147.903471 \r\nL 249.561622 148.00669 \r\nL 252.636002 148.083364 \r\nL 255.710382 148.142077 \r\nL 258.784762 148.188259 \r\nL 261.859143 148.225434 \r\nL 264.933523 148.255962 \r\nL 268.007903 148.281467 \r\nL 271.082283 148.3031 \r\nL 274.156663 148.321695 \r\nL 277.231043 148.337871 \r\nL 280.305424 148.352096 \r\nL 283.379804 148.364732 \r\nL 286.454184 148.376065 \r\nL 289.528564 148.386324 \r\nL 292.602944 148.395696 \r\nL 295.677324 148.40434 \r\nL 298.751705 148.673679 \r\nL 301.826085 152.283354 \r\nL 304.900465 152.283435 \r\nL 307.974845 152.283553 \r\nL 311.049225 152.283746 \r\nL 314.123605 152.284136 \r\nL 317.197986 152.285461 \r\nL 320.272366 154.015353 \r\nL 323.346746 159.235179 \r\nL 326.421126 152.310996 \r\nL 329.495506 152.284833 \r\nL 332.569886 152.283989 \r\nL 335.644267 152.283679 \r\nL 338.718647 152.283514 \r\nL 341.793027 152.283409 \r\nL 344.867407 152.283249 \r\nL 347.941787 148.410144 \r\nL 351.016167 148.401936 \r\nL 354.090548 148.393099 \r\nL 357.164928 148.383491 \r\nL 360.239308 148.372946 \r\nL 363.313688 148.361266 \r\nL 366.388068 148.348208 \r\n\" style=\"fill:none;stroke:#9467bd;stroke-linecap:square;stroke-width:1.5;\"/>\r\n   </g>\r\n   <g id=\"line2d_22\">\r\n    <path clip-path=\"url(#pcac8351ae5)\" d=\"M 62.024432 93.66723 \r\nL 65.098812 93.664294 \r\nL 68.173192 93.661659 \r\nL 71.247572 93.659302 \r\nL 74.321952 93.657204 \r\nL 77.396333 93.655347 \r\nL 80.470713 93.653718 \r\nL 83.545093 93.652303 \r\nL 86.619473 93.651094 \r\nL 89.693853 93.650081 \r\nL 92.768233 93.649256 \r\nL 95.842614 93.648616 \r\nL 98.916994 93.648154 \r\nL 101.991374 93.647868 \r\nL 105.065754 93.647757 \r\nL 108.140134 93.647819 \r\nL 111.214514 93.648055 \r\nL 114.288895 93.648466 \r\nL 117.363275 93.649055 \r\nL 120.437655 93.649826 \r\nL 123.512035 93.650785 \r\nL 126.586415 93.651937 \r\nL 129.660795 93.653292 \r\nL 132.735176 93.654859 \r\nL 135.809556 93.656649 \r\nL 138.883936 93.658677 \r\nL 141.958316 93.660958 \r\nL 145.032696 93.663512 \r\nL 148.107076 93.666359 \r\nL 151.181457 93.669527 \r\nL 154.255837 93.673044 \r\nL 157.330217 93.676945 \r\nL 160.404597 93.681273 \r\nL 163.478977 93.686074 \r\nL 166.553357 93.691407 \r\nL 169.627738 93.69734 \r\nL 172.702118 93.703955 \r\nL 175.776498 93.71135 \r\nL 178.850878 93.719647 \r\nL 181.925258 93.728993 \r\nL 184.999638 93.739571 \r\nL 188.074019 93.751612 \r\nL 191.148399 93.765409 \r\nL 194.222779 93.781336 \r\nL 197.297159 93.799888 \r\nL 200.371539 93.821721 \r\nL 203.445919 93.847725 \r\nL 206.5203 93.879137 \r\nL 209.59468 93.917719 \r\nL 212.66906 93.966048 \r\nL 215.74344 94.028011 \r\nL 218.81782 94.109658 \r\nL 221.8922 94.22068 \r\nL 224.966581 94.376857 \r\nL 228.040961 94.603459 \r\nL 231.115341 94.937224 \r\nL 234.189721 95.419191 \r\nL 237.264101 96.072977 \r\nL 240.338481 96.888849 \r\nL 243.412862 97.83636 \r\nL 246.487242 98.885607 \r\nL 249.561622 100.015718 \r\nL 252.636002 101.214209 \r\nL 255.710382 102.474637 \r\nL 258.784762 103.79614 \r\nL 261.859143 105.205374 \r\nL 264.933523 107.524902 \r\nL 268.007903 110.492213 \r\nL 271.082283 113.591642 \r\nL 274.156663 116.817247 \r\nL 277.231043 120.175906 \r\nL 280.305424 123.677707 \r\nL 283.379804 127.335363 \r\nL 286.454184 131.164589 \r\nL 289.528564 135.184883 \r\nL 292.602944 139.420731 \r\nL 295.677324 143.903399 \r\nL 298.751705 148.412391 \r\nL 301.826085 148.419977 \r\nL 304.900465 148.427219 \r\nL 307.974845 148.434248 \r\nL 311.049225 148.44123 \r\nL 314.123605 148.448421 \r\nL 317.197986 148.456357 \r\nL 320.272366 152.275068 \r\nL 323.346746 152.280844 \r\nL 326.421126 151.810436 \r\nL 329.495506 148.453958 \r\nL 332.569886 148.446323 \r\nL 335.644267 148.439228 \r\nL 338.718647 148.432253 \r\nL 341.793027 148.425178 \r\nL 344.867407 148.41785 \r\nL 347.941787 147.278525 \r\nL 351.016167 142.595287 \r\nL 354.090548 138.18682 \r\nL 357.164928 134.015412 \r\nL 360.239308 130.051962 \r\nL 363.313688 126.273562 \r\nL 366.388068 122.661896 \r\n\" style=\"fill:none;stroke:#8c564b;stroke-linecap:square;stroke-width:1.5;\"/>\r\n   </g>\r\n   <g id=\"line2d_23\">\r\n    <path clip-path=\"url(#pcac8351ae5)\" d=\"M 62.024432 82.78001 \r\nL 65.098812 82.777084 \r\nL 68.173192 82.774459 \r\nL 71.247572 82.772111 \r\nL 74.321952 82.770021 \r\nL 77.396333 82.768171 \r\nL 80.470713 82.766548 \r\nL 83.545093 82.76514 \r\nL 86.619473 82.763935 \r\nL 89.693853 82.762925 \r\nL 92.768233 82.762104 \r\nL 95.842614 82.761466 \r\nL 98.916994 82.761006 \r\nL 101.991374 82.760722 \r\nL 105.065754 82.760611 \r\nL 108.140134 82.760673 \r\nL 111.214514 82.760907 \r\nL 114.288895 82.761317 \r\nL 117.363275 82.761904 \r\nL 120.437655 82.762672 \r\nL 123.512035 82.763627 \r\nL 126.586415 82.764775 \r\nL 129.660795 82.766124 \r\nL 132.735176 82.767685 \r\nL 135.809556 82.769469 \r\nL 138.883936 82.771489 \r\nL 141.958316 82.773761 \r\nL 145.032696 82.776305 \r\nL 148.107076 82.779142 \r\nL 151.181457 82.782297 \r\nL 154.255837 82.785802 \r\nL 157.330217 82.789689 \r\nL 160.404597 82.794001 \r\nL 163.478977 82.798786 \r\nL 166.553357 82.804101 \r\nL 169.627738 82.810014 \r\nL 172.702118 82.816607 \r\nL 175.776498 82.823979 \r\nL 178.850878 82.83225 \r\nL 181.925258 82.841567 \r\nL 184.999638 82.852115 \r\nL 188.074019 82.864122 \r\nL 191.148399 82.877882 \r\nL 194.222779 82.89377 \r\nL 197.297159 82.912278 \r\nL 200.371539 83.454438 \r\nL 203.445919 84.185839 \r\nL 206.5203 84.939205 \r\nL 209.59468 85.713196 \r\nL 212.66906 86.50569 \r\nL 215.74344 87.313299 \r\nL 218.81782 88.130517 \r\nL 221.8922 88.948245 \r\nL 224.966581 89.751353 \r\nL 228.040961 90.515285 \r\nL 231.115341 91.204085 \r\nL 234.189721 91.777581 \r\nL 237.264101 92.213112 \r\nL 240.338481 92.52148 \r\nL 243.412862 92.734334 \r\nL 246.487242 92.883019 \r\nL 249.561622 94.127919 \r\nL 252.636002 96.59318 \r\nL 255.710382 99.158909 \r\nL 258.784762 101.821789 \r\nL 261.859143 104.555296 \r\nL 264.933523 106.540092 \r\nL 268.007903 108.04441 \r\nL 271.082283 109.591921 \r\nL 274.156663 111.198847 \r\nL 277.231043 112.871075 \r\nL 280.305424 114.614143 \r\nL 283.379804 116.434421 \r\nL 286.454184 118.339598 \r\nL 289.528564 120.339146 \r\nL 292.602944 122.444923 \r\nL 295.677324 124.67207 \r\nL 298.751705 127.040379 \r\nL 301.826085 129.576535 \r\nL 304.900465 132.31803 \r\nL 307.974845 135.32068 \r\nL 311.049225 138.675063 \r\nL 314.123605 142.549943 \r\nL 317.197986 147.335204 \r\nL 320.272366 148.466287 \r\nL 323.346746 148.47425 \r\nL 326.421126 148.463162 \r\nL 329.495506 145.83329 \r\nL 332.569886 141.373932 \r\nL 335.644267 137.673184 \r\nL 338.718647 134.431771 \r\nL 341.793027 131.510996 \r\nL 344.867407 128.832864 \r\nL 347.941787 126.347919 \r\nL 351.016167 124.022309 \r\nL 354.090548 121.831623 \r\nL 357.164928 119.757578 \r\nL 360.239308 117.786085 \r\nL 363.313688 115.906043 \r\nL 366.388068 114.108545 \r\n\" style=\"fill:none;stroke:#e377c2;stroke-linecap:square;stroke-width:1.5;\"/>\r\n   </g>\r\n   <g id=\"line2d_24\">\r\n    <path clip-path=\"url(#pcac8351ae5)\" d=\"M 62.024432 79.093951 \r\nL 65.098812 79.088081 \r\nL 68.173192 79.082814 \r\nL 71.247572 79.078104 \r\nL 74.321952 79.073911 \r\nL 77.396333 79.070203 \r\nL 80.470713 79.066948 \r\nL 83.545093 79.064124 \r\nL 86.619473 79.061709 \r\nL 89.693853 79.059686 \r\nL 92.768233 79.058041 \r\nL 95.842614 79.056761 \r\nL 98.916994 79.05584 \r\nL 101.991374 79.05527 \r\nL 105.065754 79.055047 \r\nL 108.140134 79.055171 \r\nL 111.214514 79.055641 \r\nL 114.288895 79.056462 \r\nL 117.363275 79.057638 \r\nL 120.437655 79.059178 \r\nL 123.512035 79.061092 \r\nL 126.586415 79.063393 \r\nL 129.660795 79.066099 \r\nL 132.735176 79.069228 \r\nL 135.809556 79.072804 \r\nL 138.883936 79.076855 \r\nL 141.958316 79.081413 \r\nL 145.032696 79.086516 \r\nL 148.107076 79.092209 \r\nL 151.181457 79.098543 \r\nL 154.255837 79.105579 \r\nL 157.330217 79.113386 \r\nL 160.404597 79.122049 \r\nL 163.478977 79.131666 \r\nL 166.553357 79.142353 \r\nL 169.627738 79.154249 \r\nL 172.702118 79.167521 \r\nL 175.776498 79.182371 \r\nL 178.850878 79.199047 \r\nL 181.925258 79.557909 \r\nL 184.999638 80.147639 \r\nL 188.074019 80.761366 \r\nL 191.148399 81.399058 \r\nL 194.222779 82.060616 \r\nL 197.297159 82.745852 \r\nL 200.371539 82.934064 \r\nL 203.445919 82.960017 \r\nL 206.5203 82.991375 \r\nL 209.59468 83.029901 \r\nL 212.66906 83.078175 \r\nL 215.74344 83.140092 \r\nL 218.81782 83.221714 \r\nL 221.8922 83.332761 \r\nL 224.966581 83.489067 \r\nL 228.040961 83.715997 \r\nL 231.115341 84.050409 \r\nL 234.189721 84.533365 \r\nL 237.264101 85.436656 \r\nL 240.338481 87.397651 \r\nL 243.412862 89.51799 \r\nL 246.487242 91.766492 \r\nL 249.561622 92.98935 \r\nL 252.636002 93.068751 \r\nL 255.710382 93.129625 \r\nL 258.784762 93.177898 \r\nL 261.859143 94.272239 \r\nL 264.933523 95.698284 \r\nL 268.007903 97.181329 \r\nL 271.082283 98.723604 \r\nL 274.156663 100.328214 \r\nL 277.231043 101.999157 \r\nL 280.305424 103.741422 \r\nL 283.379804 105.561161 \r\nL 286.454184 107.465963 \r\nL 289.528564 109.465245 \r\nL 292.602944 111.570838 \r\nL 295.677324 113.797868 \r\nL 298.751705 116.166121 \r\nL 301.826085 118.70229 \r\nL 304.900465 121.443891 \r\nL 307.974845 124.446794 \r\nL 311.049225 127.801744 \r\nL 314.123605 131.678141 \r\nL 317.197986 136.47147 \r\nL 320.272366 143.735351 \r\nL 323.346746 148.442501 \r\nL 326.421126 141.23114 \r\nL 329.495506 134.965224 \r\nL 332.569886 130.501504 \r\nL 335.644267 126.799651 \r\nL 338.718647 123.557791 \r\nL 341.793027 120.636814 \r\nL 344.867407 117.958608 \r\nL 347.941787 115.473671 \r\nL 351.016167 113.148134 \r\nL 354.090548 110.957584 \r\nL 357.164928 108.883744 \r\nL 360.239308 106.912544 \r\nL 363.313688 105.032918 \r\nL 366.388068 103.236019 \r\n\" style=\"fill:none;stroke:#7f7f7f;stroke-linecap:square;stroke-width:1.5;\"/>\r\n   </g>\r\n   <g id=\"line2d_25\">\r\n    <path clip-path=\"url(#pcac8351ae5)\" d=\"M 62.024432 74.732465 \r\nL 65.098812 74.419649 \r\nL 68.173192 74.130019 \r\nL 71.247572 73.863516 \r\nL 74.321952 73.620085 \r\nL 77.396333 73.399678 \r\nL 80.470713 73.20225 \r\nL 83.545093 73.027759 \r\nL 86.619473 72.876172 \r\nL 89.693853 72.747458 \r\nL 92.768233 72.64159 \r\nL 95.842614 72.558547 \r\nL 98.916994 72.498313 \r\nL 101.991374 72.460876 \r\nL 105.065754 72.446227 \r\nL 108.140134 72.454365 \r\nL 111.214514 72.485291 \r\nL 114.288895 72.53901 \r\nL 117.363275 72.615535 \r\nL 120.437655 72.714879 \r\nL 123.512035 72.837064 \r\nL 126.586415 72.982113 \r\nL 129.660795 73.150056 \r\nL 132.735176 73.340927 \r\nL 135.809556 73.554765 \r\nL 138.883936 73.791612 \r\nL 141.958316 74.051518 \r\nL 145.032696 74.334534 \r\nL 148.107076 74.640719 \r\nL 151.181457 74.970135 \r\nL 154.255837 75.322847 \r\nL 157.330217 75.698926 \r\nL 160.404597 76.098445 \r\nL 163.478977 76.521482 \r\nL 166.553357 76.968116 \r\nL 169.627738 77.438425 \r\nL 172.702118 77.932488 \r\nL 175.776498 78.450379 \r\nL 178.850878 78.992166 \r\nL 181.925258 79.217848 \r\nL 184.999638 79.239158 \r\nL 188.074019 79.263449 \r\nL 191.148399 79.291331 \r\nL 194.222779 79.323592 \r\nL 197.297159 79.361271 \r\nL 200.371539 79.405767 \r\nL 203.445919 79.459006 \r\nL 206.5203 79.523714 \r\nL 209.59468 79.603867 \r\nL 212.66906 79.705502 \r\nL 215.74344 79.838212 \r\nL 218.81782 80.018138 \r\nL 221.8922 80.274285 \r\nL 224.966581 80.661985 \r\nL 228.040961 81.284519 \r\nL 231.115341 82.280357 \r\nL 234.189721 83.695944 \r\nL 237.264101 85.188259 \r\nL 240.338481 86.005031 \r\nL 243.412862 86.953034 \r\nL 246.487242 88.00232 \r\nL 249.561622 89.131964 \r\nL 252.636002 90.329274 \r\nL 255.710382 91.587126 \r\nL 258.784762 92.901905 \r\nL 261.859143 93.217796 \r\nL 264.933523 93.25445 \r\nL 268.007903 93.390505 \r\nL 271.082283 94.815332 \r\nL 274.156663 96.424049 \r\nL 277.231043 98.102083 \r\nL 280.305424 99.851697 \r\nL 283.379804 101.678564 \r\nL 286.454184 103.590164 \r\nL 289.528564 105.595904 \r\nL 292.602944 107.707641 \r\nL 295.677324 109.94054 \r\nL 298.751705 112.314433 \r\nL 301.826085 114.856057 \r\nL 304.900465 117.60297 \r\nL 307.974845 120.611071 \r\nL 311.049225 123.971082 \r\nL 314.123605 127.852045 \r\nL 317.197986 134.089337 \r\nL 320.272366 143.087793 \r\nL 323.346746 148.063894 \r\nL 326.421126 140.866297 \r\nL 329.495506 131.299388 \r\nL 332.569886 126.674226 \r\nL 335.644267 122.967564 \r\nL 338.718647 119.720594 \r\nL 341.793027 116.794388 \r\nL 344.867407 114.110832 \r\nL 347.941787 111.620392 \r\nL 351.016167 109.289155 \r\nL 354.090548 107.092661 \r\nL 357.164928 105.012591 \r\nL 360.239308 103.034838 \r\nL 363.313688 101.148316 \r\nL 366.388068 99.344208 \r\n\" style=\"fill:none;stroke:#bcbd22;stroke-linecap:square;stroke-width:1.5;\"/>\r\n   </g>\r\n   <g id=\"line2d_26\">\r\n    <path clip-path=\"url(#pcac8351ae5)\" d=\"M 62.024432 63.855643 \r\nL 65.098812 63.542831 \r\nL 68.173192 63.253206 \r\nL 71.247572 62.986706 \r\nL 74.321952 62.743279 \r\nL 77.396333 62.522875 \r\nL 80.470713 62.325449 \r\nL 83.545093 62.150961 \r\nL 86.619473 61.999376 \r\nL 89.693853 61.870663 \r\nL 92.768233 61.764796 \r\nL 95.842614 61.681755 \r\nL 98.916994 61.621521 \r\nL 101.991374 61.584085 \r\nL 105.065754 61.569436 \r\nL 108.140134 61.577574 \r\nL 111.214514 61.608499 \r\nL 114.288895 61.662218 \r\nL 117.363275 61.738742 \r\nL 120.437655 61.838085 \r\nL 123.512035 61.960268 \r\nL 126.586415 62.105315 \r\nL 129.660795 62.273256 \r\nL 132.735176 62.464125 \r\nL 135.809556 62.677959 \r\nL 138.883936 62.914803 \r\nL 141.958316 63.174705 \r\nL 145.032696 63.457718 \r\nL 148.107076 63.763899 \r\nL 151.181457 64.093309 \r\nL 154.255837 64.446016 \r\nL 157.330217 64.822089 \r\nL 160.404597 65.221603 \r\nL 163.478977 65.644633 \r\nL 166.553357 66.091259 \r\nL 169.627738 66.56156 \r\nL 172.702118 67.055614 \r\nL 175.776498 67.573497 \r\nL 178.850878 68.115275 \r\nL 181.925258 68.681004 \r\nL 184.999638 69.270722 \r\nL 188.074019 69.884436 \r\nL 191.148399 70.522113 \r\nL 194.222779 71.183655 \r\nL 197.297159 71.868872 \r\nL 200.371539 72.577436 \r\nL 203.445919 73.308811 \r\nL 206.5203 74.062146 \r\nL 209.59468 74.836096 \r\nL 212.66906 75.628537 \r\nL 215.74344 76.43607 \r\nL 218.81782 77.253172 \r\nL 221.8922 78.070715 \r\nL 224.966581 78.873507 \r\nL 228.040961 79.636891 \r\nL 231.115341 80.324783 \r\nL 234.189721 80.896972 \r\nL 237.264101 81.330999 \r\nL 240.338481 81.879551 \r\nL 243.412862 82.876749 \r\nL 246.487242 83.956424 \r\nL 249.561622 85.108889 \r\nL 252.636002 86.32534 \r\nL 255.710382 87.599921 \r\nL 258.784762 88.929342 \r\nL 261.859143 90.311935 \r\nL 264.933523 91.745343 \r\nL 268.007903 93.130042 \r\nL 271.082283 93.280211 \r\nL 274.156663 93.304816 \r\nL 277.231043 93.323174 \r\nL 280.305424 93.338594 \r\nL 283.379804 93.352013 \r\nL 286.454184 93.363913 \r\nL 289.528564 93.37461 \r\nL 292.602944 93.384336 \r\nL 295.677324 93.393277 \r\nL 298.751705 93.575283 \r\nL 301.826085 98.687672 \r\nL 304.900465 104.218068 \r\nL 307.974845 110.277242 \r\nL 311.049225 117.042763 \r\nL 314.123605 124.838406 \r\nL 317.197986 132.644045 \r\nL 320.272366 139.312073 \r\nL 323.346746 144.528402 \r\nL 326.421126 137.145123 \r\nL 329.495506 131.140168 \r\nL 332.569886 122.477936 \r\nL 335.644267 115.022788 \r\nL 338.718647 108.483531 \r\nL 341.793027 102.589709 \r\nL 344.867407 97.188149 \r\nL 347.941787 93.399268 \r\nL 351.016167 93.390793 \r\nL 354.090548 93.381645 \r\nL 357.164928 93.371662 \r\nL 360.239308 93.360647 \r\nL 363.313688 93.34835 \r\nL 366.388068 93.33442 \r\n\" style=\"fill:none;stroke:#17becf;stroke-linecap:square;stroke-width:1.5;\"/>\r\n   </g>\r\n   <g id=\"line2d_27\">\r\n    <path clip-path=\"url(#pcac8351ae5)\" d=\"M 62.024432 60.286723 \r\nL 65.098812 59.969437 \r\nL 68.173192 59.675823 \r\nL 71.247572 59.405781 \r\nL 74.321952 59.159218 \r\nL 77.396333 58.936053 \r\nL 80.470713 58.736215 \r\nL 83.545093 58.559642 \r\nL 86.619473 58.40628 \r\nL 89.693853 58.276083 \r\nL 92.768233 58.169012 \r\nL 95.842614 58.085036 \r\nL 98.916994 58.02413 \r\nL 101.991374 57.986278 \r\nL 105.065754 57.971468 \r\nL 108.140134 57.979695 \r\nL 111.214514 58.010963 \r\nL 114.288895 58.065281 \r\nL 117.363275 58.142663 \r\nL 120.437655 58.243133 \r\nL 123.512035 58.366719 \r\nL 126.586415 58.513458 \r\nL 129.660795 58.683394 \r\nL 132.735176 58.876579 \r\nL 135.809556 59.093072 \r\nL 138.883936 59.332942 \r\nL 141.958316 59.596268 \r\nL 145.032696 59.883136 \r\nL 148.107076 60.193647 \r\nL 151.181457 60.527912 \r\nL 154.255837 60.886056 \r\nL 157.330217 61.268218 \r\nL 160.404597 61.674556 \r\nL 163.478977 62.105246 \r\nL 166.553357 62.560488 \r\nL 169.627738 63.04051 \r\nL 172.702118 63.545572 \r\nL 175.776498 64.075972 \r\nL 178.850878 64.632061 \r\nL 181.925258 65.21425 \r\nL 184.999638 65.823035 \r\nL 188.074019 66.459018 \r\nL 191.148399 67.12295 \r\nL 194.222779 67.815783 \r\nL 197.297159 68.538761 \r\nL 200.371539 69.293543 \r\nL 203.445919 70.082405 \r\nL 206.5203 70.908535 \r\nL 209.59468 71.77646 \r\nL 212.66906 72.692587 \r\nL 215.74344 73.665569 \r\nL 218.81782 74.705375 \r\nL 221.8922 75.817801 \r\nL 224.966581 76.987941 \r\nL 228.040961 78.150942 \r\nL 231.115341 79.198103 \r\nL 234.189721 80.102607 \r\nL 237.264101 80.965641 \r\nL 240.338481 81.637967 \r\nL 243.412862 81.849668 \r\nL 246.487242 81.997323 \r\nL 249.561622 82.103277 \r\nL 252.636002 82.181812 \r\nL 255.710382 82.241832 \r\nL 258.784762 82.288961 \r\nL 261.859143 82.326844 \r\nL 264.933523 82.357916 \r\nL 268.007903 82.383849 \r\nL 271.082283 82.405827 \r\nL 274.156663 82.424705 \r\nL 277.231043 82.441118 \r\nL 280.305424 82.455546 \r\nL 283.379804 82.46836 \r\nL 286.454184 82.47985 \r\nL 289.528564 82.490253 \r\nL 292.602944 84.322492 \r\nL 295.677324 88.805104 \r\nL 298.751705 93.401585 \r\nL 301.826085 93.409399 \r\nL 304.900465 93.416851 \r\nL 307.974845 99.402009 \r\nL 311.049225 106.168084 \r\nL 314.123605 113.965046 \r\nL 317.197986 123.222933 \r\nL 320.272366 132.815738 \r\nL 323.346746 137.274241 \r\nL 326.421126 130.258955 \r\nL 329.495506 120.429217 \r\nL 332.569886 111.604039 \r\nL 335.644267 104.147911 \r\nL 338.718647 97.608192 \r\nL 341.793027 93.414749 \r\nL 344.867407 93.407209 \r\nL 347.941787 92.180163 \r\nL 351.016167 87.497012 \r\nL 354.090548 83.08859 \r\nL 357.164928 82.48738 \r\nL 360.239308 82.476688 \r\nL 363.313688 82.464845 \r\nL 366.388068 82.451603 \r\n\" style=\"fill:none;stroke:#1f77b4;stroke-linecap:square;stroke-width:1.5;\"/>\r\n   </g>\r\n   <g id=\"line2d_28\">\r\n    <path clip-path=\"url(#pcac8351ae5)\" d=\"M 62.024432 43.776105 \r\nL 65.098812 43.151599 \r\nL 68.173192 42.573309 \r\nL 71.247572 42.041139 \r\nL 74.321952 41.554998 \r\nL 77.396333 41.1148 \r\nL 80.470713 40.720469 \r\nL 83.545093 40.371933 \r\nL 86.619473 40.069131 \r\nL 89.693853 39.812007 \r\nL 92.768233 39.600515 \r\nL 95.842614 39.434617 \r\nL 98.916994 39.314282 \r\nL 101.991374 39.23949 \r\nL 105.065754 39.210225 \r\nL 108.140134 39.226483 \r\nL 111.214514 39.288267 \r\nL 114.288895 39.395587 \r\nL 117.363275 39.548465 \r\nL 120.437655 39.746926 \r\nL 123.512035 39.991008 \r\nL 126.586415 40.280754 \r\nL 129.660795 40.616217 \r\nL 132.735176 40.997457 \r\nL 135.809556 41.424543 \r\nL 138.883936 41.897549 \r\nL 141.958316 42.416559 \r\nL 145.032696 42.981661 \r\nL 148.107076 43.592953 \r\nL 151.181457 44.250533 \r\nL 154.255837 44.954507 \r\nL 157.330217 45.70498 \r\nL 160.404597 46.502057 \r\nL 163.478977 47.34584 \r\nL 166.553357 48.236422 \r\nL 169.627738 49.173882 \r\nL 172.702118 50.158275 \r\nL 175.776498 51.189622 \r\nL 178.850878 52.267892 \r\nL 181.925258 53.392983 \r\nL 184.999638 54.564685 \r\nL 188.074019 55.782637 \r\nL 191.148399 57.046256 \r\nL 194.222779 58.354643 \r\nL 197.297159 59.706427 \r\nL 200.371539 61.099534 \r\nL 203.445919 62.530833 \r\nL 206.5203 63.995576 \r\nL 209.59468 65.486516 \r\nL 212.66906 66.992584 \r\nL 215.74344 68.497026 \r\nL 218.81782 69.975358 \r\nL 221.8922 71.394557 \r\nL 224.966581 72.716135 \r\nL 228.040961 73.903788 \r\nL 231.115341 74.930078 \r\nL 234.189721 75.777931 \r\nL 237.264101 76.443605 \r\nL 240.338481 76.942687 \r\nL 243.412862 77.307115 \r\nL 246.487242 77.572571 \r\nL 249.561622 77.768751 \r\nL 252.636002 77.916997 \r\nL 255.710382 78.031749 \r\nL 258.784762 78.122635 \r\nL 261.859143 78.196129 \r\nL 264.933523 78.256667 \r\nL 268.007903 78.307353 \r\nL 271.082283 78.350408 \r\nL 274.156663 78.387455 \r\nL 277.231043 78.419707 \r\nL 280.305424 78.448086 \r\nL 283.379804 78.473307 \r\nL 286.454184 78.495932 \r\nL 289.528564 80.086653 \r\nL 292.602944 82.499758 \r\nL 295.677324 82.50853 \r\nL 298.751705 82.699348 \r\nL 301.826085 87.811903 \r\nL 304.900465 93.342513 \r\nL 307.974845 95.673772 \r\nL 311.049225 102.427382 \r\nL 314.123605 110.21141 \r\nL 317.197986 119.455903 \r\nL 320.272366 129.040508 \r\nL 323.346746 133.50105 \r\nL 326.421126 126.484801 \r\nL 329.495506 116.665932 \r\nL 332.569886 107.854177 \r\nL 335.644267 100.410796 \r\nL 338.718647 93.883494 \r\nL 341.793027 91.714088 \r\nL 344.867407 86.312329 \r\nL 347.941787 82.514426 \r\nL 351.016167 82.50609 \r\nL 354.090548 82.497122 \r\nL 357.164928 78.917174 \r\nL 360.239308 78.489705 \r\nL 363.313688 78.466388 \r\nL 366.388068 78.440328 \r\n\" style=\"fill:none;stroke:#ff7f0e;stroke-linecap:square;stroke-width:1.5;\"/>\r\n   </g>\r\n   <g id=\"line2d_29\">\r\n    <path clip-path=\"url(#pcac8351ae5)\" d=\"M 62.024432 24.171278 \r\nL 65.098812 24.165405 \r\nL 68.173192 24.160135 \r\nL 71.247572 24.155422 \r\nL 74.321952 24.151227 \r\nL 77.396333 24.147515 \r\nL 80.470713 24.144258 \r\nL 83.545093 24.141431 \r\nL 86.619473 24.139013 \r\nL 89.693853 24.136988 \r\nL 92.768233 24.13534 \r\nL 95.842614 24.13406 \r\nL 98.916994 24.133137 \r\nL 101.991374 24.132566 \r\nL 105.065754 24.132343 \r\nL 108.140134 24.132467 \r\nL 111.214514 24.132938 \r\nL 114.288895 24.13376 \r\nL 117.363275 24.134937 \r\nL 120.437655 24.136479 \r\nL 123.512035 24.138395 \r\nL 126.586415 24.140699 \r\nL 129.660795 24.143407 \r\nL 132.735176 24.146539 \r\nL 135.809556 24.150118 \r\nL 138.883936 24.154173 \r\nL 141.958316 24.158734 \r\nL 145.032696 24.16384 \r\nL 148.107076 24.169535 \r\nL 151.181457 24.175871 \r\nL 154.255837 24.182907 \r\nL 157.330217 24.190715 \r\nL 160.404597 24.199375 \r\nL 163.478977 24.208988 \r\nL 166.553357 24.219667 \r\nL 169.627738 24.231551 \r\nL 172.702118 24.244806 \r\nL 175.776498 24.259631 \r\nL 178.850878 24.276272 \r\nL 181.925258 24.295029 \r\nL 184.999638 24.316274 \r\nL 188.074019 24.34048 \r\nL 191.148399 24.368246 \r\nL 194.222779 24.400348 \r\nL 197.297159 24.43781 \r\nL 200.371539 24.482006 \r\nL 203.445919 24.534823 \r\nL 206.5203 24.598925 \r\nL 209.59468 24.678189 \r\nL 212.66906 24.778477 \r\nL 215.74344 24.909064 \r\nL 218.81782 25.085461 \r\nL 221.8922 25.335356 \r\nL 224.966581 25.711266 \r\nL 228.040961 26.311767 \r\nL 231.115341 27.275152 \r\nL 234.189721 28.660776 \r\nL 237.264101 30.382156 \r\nL 240.338481 32.331839 \r\nL 243.412862 34.445443 \r\nL 246.487242 36.689975 \r\nL 249.561622 39.048681 \r\nL 252.636002 41.513234 \r\nL 255.710382 44.080052 \r\nL 258.784762 46.7485 \r\nL 261.859143 49.519992 \r\nL 264.933523 52.397531 \r\nL 268.007903 55.38551 \r\nL 271.082283 58.489669 \r\nL 274.156663 61.717163 \r\nL 277.231043 65.076742 \r\nL 280.305424 68.579032 \r\nL 283.379804 72.236951 \r\nL 286.454184 76.066309 \r\nL 289.528564 78.516417 \r\nL 292.602944 78.535134 \r\nL 295.677324 78.552396 \r\nL 298.751705 82.516711 \r\nL 301.826085 84.108718 \r\nL 304.900465 89.626696 \r\nL 307.974845 93.424074 \r\nL 311.049225 93.431248 \r\nL 314.123605 93.438641 \r\nL 317.197986 93.446815 \r\nL 320.272366 93.457098 \r\nL 323.346746 93.464745 \r\nL 326.421126 93.453851 \r\nL 329.495506 93.444341 \r\nL 332.569886 93.436483 \r\nL 335.644267 93.429191 \r\nL 338.718647 93.422023 \r\nL 341.793027 88.001845 \r\nL 344.867407 82.612827 \r\nL 347.941787 81.304187 \r\nL 351.016167 78.547596 \r\nL 354.090548 78.529947 \r\nL 357.164928 78.51076 \r\nL 360.239308 74.953654 \r\nL 363.313688 71.17509 \r\nL 366.388068 67.56311 \r\n\" style=\"fill:none;stroke:#2ca02c;stroke-linecap:square;stroke-width:1.5;\"/>\r\n   </g>\r\n   <g id=\"line2d_30\">\r\n    <path clip-path=\"url(#pcac8351ae5)\" d=\"M 62.024432 20.583637 \r\nL 65.098812 20.583637 \r\nL 68.173192 20.583637 \r\nL 71.247572 20.583637 \r\nL 74.321952 20.583637 \r\nL 77.396333 20.583637 \r\nL 80.470713 20.583637 \r\nL 83.545093 20.583637 \r\nL 86.619473 20.583637 \r\nL 89.693853 20.583636 \r\nL 92.768233 20.583636 \r\nL 95.842614 20.583636 \r\nL 98.916994 20.583636 \r\nL 101.991374 20.583636 \r\nL 105.065754 20.583636 \r\nL 108.140134 20.583636 \r\nL 111.214514 20.583636 \r\nL 114.288895 20.583636 \r\nL 117.363275 20.583636 \r\nL 120.437655 20.583636 \r\nL 123.512035 20.583636 \r\nL 126.586415 20.583637 \r\nL 129.660795 20.583637 \r\nL 132.735176 20.583637 \r\nL 135.809556 20.583637 \r\nL 138.883936 20.583637 \r\nL 141.958316 20.583637 \r\nL 145.032696 20.583637 \r\nL 148.107076 20.583637 \r\nL 151.181457 20.583637 \r\nL 154.255837 20.583638 \r\nL 157.330217 20.583638 \r\nL 160.404597 20.583638 \r\nL 163.478977 20.583638 \r\nL 166.553357 20.583638 \r\nL 169.627738 20.583639 \r\nL 172.702118 20.583639 \r\nL 175.776498 20.583639 \r\nL 178.850878 20.58364 \r\nL 181.925258 20.58364 \r\nL 184.999638 20.583641 \r\nL 188.074019 20.583642 \r\nL 191.148399 20.583643 \r\nL 194.222779 20.583644 \r\nL 197.297159 20.583645 \r\nL 200.371539 20.583646 \r\nL 203.445919 20.583648 \r\nL 206.5203 20.583651 \r\nL 209.59468 20.583655 \r\nL 212.66906 20.583661 \r\nL 215.74344 20.583673 \r\nL 218.81782 20.583708 \r\nL 221.8922 20.793287 \r\nL 224.966581 21.96179 \r\nL 228.040961 23.131291 \r\nL 231.115341 24.194162 \r\nL 234.189721 25.111682 \r\nL 237.264101 25.97819 \r\nL 240.338481 26.890206 \r\nL 243.412862 27.88447 \r\nL 246.487242 28.961988 \r\nL 249.561622 30.113559 \r\nL 252.636002 31.330632 \r\nL 255.710382 33.201954 \r\nL 258.784762 35.870707 \r\nL 261.859143 38.642448 \r\nL 264.933523 41.520195 \r\nL 268.007903 44.508353 \r\nL 271.082283 47.612667 \r\nL 274.156663 50.840299 \r\nL 277.231043 54.200003 \r\nL 280.305424 57.702408 \r\nL 283.379804 61.360437 \r\nL 286.454184 65.189902 \r\nL 289.528564 69.210352 \r\nL 292.602944 73.446301 \r\nL 295.677324 77.929033 \r\nL 298.751705 79.009223 \r\nL 301.826085 82.524431 \r\nL 304.900465 82.531824 \r\nL 307.974845 82.539037 \r\nL 311.049225 82.546276 \r\nL 314.123605 82.55392 \r\nL 317.197986 82.563252 \r\nL 320.272366 84.310713 \r\nL 323.346746 89.521114 \r\nL 326.421126 82.596316 \r\nL 329.495506 82.560203 \r\nL 332.569886 82.551656 \r\nL 335.644267 82.544189 \r\nL 338.718647 82.536984 \r\nL 341.793027 82.529737 \r\nL 344.867407 82.522261 \r\nL 347.941787 78.563988 \r\nL 351.016167 76.620906 \r\nL 354.090548 72.212367 \r\nL 357.164928 68.040843 \r\nL 360.239308 64.077216 \r\nL 363.313688 60.298546 \r\nL 366.388068 56.686454 \r\n\" style=\"fill:none;stroke:#d62728;stroke-linecap:square;stroke-width:1.5;\"/>\r\n   </g>\r\n   <g id=\"patch_3\">\r\n    <path d=\"M 46.80625 228.14 \r\nL 46.80625 10.7 \r\n\" style=\"fill:none;stroke:#000000;stroke-linecap:square;stroke-linejoin:miter;stroke-width:0.8;\"/>\r\n   </g>\r\n   <g id=\"patch_4\">\r\n    <path d=\"M 381.60625 228.14 \r\nL 381.60625 10.7 \r\n\" style=\"fill:none;stroke:#000000;stroke-linecap:square;stroke-linejoin:miter;stroke-width:0.8;\"/>\r\n   </g>\r\n   <g id=\"patch_5\">\r\n    <path d=\"M 46.80625 228.14 \r\nL 381.60625 228.14 \r\n\" style=\"fill:none;stroke:#000000;stroke-linecap:square;stroke-linejoin:miter;stroke-width:0.8;\"/>\r\n   </g>\r\n   <g id=\"patch_6\">\r\n    <path d=\"M 46.80625 10.7 \r\nL 381.60625 10.7 \r\n\" style=\"fill:none;stroke:#000000;stroke-linecap:square;stroke-linejoin:miter;stroke-width:0.8;\"/>\r\n   </g>\r\n  </g>\r\n </g>\r\n <defs>\r\n  <clipPath id=\"pcac8351ae5\">\r\n   <rect height=\"217.44\" width=\"334.8\" x=\"46.80625\" y=\"10.7\"/>\r\n  </clipPath>\r\n </defs>\r\n</svg>\r\n",
      "text/plain": "<Figure size 900x600 with 1 Axes>"
     },
     "metadata": {
      "needs_background": "light"
     },
     "output_type": "display_data"
    },
    {
     "data": {
      "text/plain": "(<Figure size 900x600 with 1 Axes>,\n <matplotlib.axes._subplots.AxesSubplot at 0x221c604fa90>)"
     },
     "metadata": {},
     "output_type": "execute_result",
     "execution_count": 15
    }
   ],
   "source": [
    "absorptiondata.plot_evals_vs_paramvals()"
   ]
  },
  {
   "cell_type": "code",
   "execution_count": null,
   "outputs": [],
   "source": [
    "\n"
   ],
   "metadata": {
    "collapsed": false,
    "pycharm": {
     "name": "#%%\n"
    }
   }
  }
 ],
 "metadata": {
  "celltoolbar": "Edit Metadata",
  "kernelspec": {
   "display_name": "Python 3",
   "language": "python",
   "name": "python3"
  },
  "language_info": {
   "codemirror_mode": {
    "name": "ipython",
    "version": 3
   },
   "file_extension": ".py",
   "mimetype": "text/x-python",
   "name": "python",
   "nbconvert_exporter": "python",
   "pygments_lexer": "ipython3",
   "version": "3.5.5"
  },
  "pycharm": {
   "stem_cell": {
    "cell_type": "raw",
    "source": [],
    "metadata": {
     "collapsed": false
    }
   }
  },
  "toc": {
   "toc_cell": false,
   "toc_number_sections": true,
   "toc_threshold": 6,
   "toc_window_display": false
  }
 },
 "nbformat": 4,
 "nbformat_minor": 2
}